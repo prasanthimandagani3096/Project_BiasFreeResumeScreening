{
 "cells": [
  {
   "cell_type": "markdown",
   "id": "354cad66-f8af-436b-8e04-50f562e1814f",
   "metadata": {},
   "source": [
    "# Project Title: Bias Free Resume Screening\n",
    "\n"
   ]
  },
  {
   "cell_type": "markdown",
   "id": "1145a272-df08-48d4-9b69-03ceb8b82594",
   "metadata": {},
   "source": [
    "## Problem Statement:\n",
    "\n",
    "1. The idea of machine learning-esume screening is to screen a pool of resumes and decide which resumes can be accepted based on their skill set. In this project, I aim to screen the resumes based on the similarity between the skills mentioned and the job description.\n",
    "2. However, there could be bias during screening due to conscious or unconscious biases concerning sensitive features like sex, age, ethnicity, etc. In this project, I also aim to detect and reduce the gender bias to make a fair model."
   ]
  },
  {
   "cell_type": "markdown",
   "id": "31468a74-5128-4ebe-a356-57e92d62e1e4",
   "metadata": {},
   "source": [
    "## Methodology \n",
    "\n",
    "##### Step 1 - Data Collection: \n",
    "1. I also used 'Original Resume Dataset' (https://github.com/JAIJANYANI/Automated-Resume-Screening-System/tree/master/Original_Resumes) which has 19 resumes. The same source provided a job description based on which we needs to screen the resumes.\n",
    "2. I used 'Kaggle Resume Dataset' (https://www.kaggle.com/datasets/snehaanbhawal/resume-dataset) which has around 2000 resumes that were collected by web scrapping. The provided data is classified into different job groups. I have manually collected and created the job descriptions for each job group.\n",
    "\n",
    "##### Step 2 - Data Extraction: \n",
    "1. I used 'docx2txt' and 'pdfminer' to extract raw text from docx and pdf. I used 'NLTK' to remove the stopwords. I used 're' to remove url/email/special character patterns from the text.\n",
    "2. I also tried 'ResumeParser' from 'pyresparser' to extract columns like name, email, skills, education, \n",
    "and total experience, but the values I found are only consistent with some formats of resume. So, I opted to go for the 1st method.\n",
    " "
   ]
  },
  {
   "cell_type": "markdown",
   "id": "c115b45d-d73b-400f-9d9d-1aec8eaf9789",
   "metadata": {},
   "source": [
    "##### Step 3 - Data Annotation: \n",
    "1. For the 'Original Resume Dataset' - I have manually Ranked the Resumes. I used this dataset to verify the ranking accuracy of the similaries we got. \n",
    "2. For the ''Kaggle Resume Dataset' - Since They are 2000+ resumes, I opted to verify the cosine similary by assessing 'Category' it is predicting. I have also randomly generated Gender and manipulated the extracted to have the gender value so that we could analyse the Bias. \n",
    "\n",
    "##### Step 4 - Vectorizing Data: \n",
    "1. I used 'TfidfVectorizer' to vectorize the resumes and job descriptions.\n",
    "\n",
    "##### Step 5 - Similarities: \n",
    "1. I used 'cosine_similarity' to find the similarity matrix between resume vectors and jobs vectors.\n",
    "\n",
    "##### Step 6 - Performance Analysis:\n",
    "1. I used Randomforest classification Model for analysing the accuracy of similarities. \n",
    "2. I used aif360 to predict the bias w.r.t Gender\n",
    "9. I used Reweighing pre-processing technique for improving the performance. "
   ]
  },
  {
   "cell_type": "markdown",
   "id": "d190ef5b-7eac-49a2-86cd-28add75eb76d",
   "metadata": {},
   "source": [
    "##### Note: From step 2 to 6 you can see the implementation Below "
   ]
  },
  {
   "cell_type": "markdown",
   "id": "6482d026-f1ba-4960-92de-4ae1ec27f469",
   "metadata": {},
   "source": [
    "### Task 1 - Load and Extract Resumes and Jobs\n",
    "\n",
    "#### 1.1 Extracting Resumes from docx and pdf"
   ]
  },
  {
   "cell_type": "code",
   "execution_count": 408,
   "id": "da54aa78-d66d-4d9f-8790-a3e6df1b58ec",
   "metadata": {},
   "outputs": [],
   "source": [
    "import docx2txt\n",
    "from pdfminer.high_level import extract_text\n",
    "\n",
    "## Extracting text from PDF\n",
    "def extract_text_from_pdf(pdf_path):\n",
    "    return extract_text(pdf_path)\n",
    "\n",
    "#Extracting text from DOCX\n",
    "def extract_text_from_docx(docx_path):\n",
    "    txt = docx2txt.process(docx_path)\n",
    "    if txt:\n",
    "        return txt.replace('\\t', ' ')\n",
    "    return None"
   ]
  },
  {
   "cell_type": "markdown",
   "id": "09791447-4861-459d-b3b6-d419a92ba15f",
   "metadata": {},
   "source": [
    "#### 1.2 Cleaning the Extracted Resume text"
   ]
  },
  {
   "cell_type": "code",
   "execution_count": 411,
   "id": "4263a85f-b672-4fcb-85d2-49ad36530274",
   "metadata": {},
   "outputs": [],
   "source": [
    "import re\n",
    "import nltk\n",
    "\n",
    "def clean(text):\n",
    "    \"\"\"\n",
    "    Clean the input text by removing URLs, emails, special characters, and stop words.\n",
    "    \n",
    "    :param text: The string to be cleaned\n",
    "    :return: The cleaned string\n",
    "    \"\"\"\n",
    "\n",
    "    # Compile patterns for URLs and emails to speed up cleaning process\n",
    "    url_pattern = re.compile(r'https?://\\S+|www\\.\\S+')\n",
    "    email_pattern = re.compile(r'\\b[A-Za-z0-9._%+-]+@[A-Za-z0-9.-]+\\.[A-Z|a-z]{2,}\\b')\n",
    "    \n",
    "    # Remove URLs\n",
    "    clean_text = url_pattern.sub('', text)\n",
    "    \n",
    "    # Remove emails\n",
    "    clean_text = email_pattern.sub('', clean_text)\n",
    "    \n",
    "    # Remove special characters (keeping only words and whitespace)\n",
    "    clean_text = re.sub(r'[^\\w\\s]', '', clean_text)\n",
    "    \n",
    "    # Remove stop words by filtering the split words of the text\n",
    "    stop_words = set(nltk.corpus.stopwords.words('english'))\n",
    "    clean_text = ' '.join(word for word in clean_text.split() if word.lower() not in stop_words)\n",
    "    return clean_text\n",
    "    "
   ]
  },
  {
   "cell_type": "markdown",
   "id": "37ac83de-4899-403e-954b-40c19f5c7476",
   "metadata": {},
   "source": [
    "#### 1.3 Extracting the annotations and manipulating data to add gender"
   ]
  },
  {
   "cell_type": "code",
   "execution_count": 414,
   "id": "15ffc7ba-ac66-4b70-807a-32a3e0104d32",
   "metadata": {},
   "outputs": [],
   "source": [
    "import random\n",
    "\n",
    "def addGender(clean_text, gender):\n",
    "    gender = random.choice([\"Male\", \"Female\"])\n",
    "    clean_text = gender + \" \" + clean_text\n",
    "    return clean_text"
   ]
  },
  {
   "cell_type": "code",
   "execution_count": 536,
   "id": "6fba4666-d651-458f-8bcd-2a687de4d26f",
   "metadata": {},
   "outputs": [],
   "source": [
    "import os\n",
    "\n",
    "## This is for \"Kaggle Dataset\"\n",
    "def extractingResume(directory_Path, directory_name) :\n",
    "    mydictList = []\n",
    "    directory = directory_Path\n",
    "    files = os.listdir(directory)\n",
    "    for filename in files :\n",
    "        file_path = os.path.join(directory, filename)\n",
    "        if os.path.isfile(file_path) and file_path.endswith('.pdf'):\n",
    "            resume_text = extract_text_from_pdf(file_path)\n",
    "            mydictList.append({\"ResumeText\" : resume_text, \"cleanText\" : addGender(clean(resume_text)), \"category\": directory_name, \"gender\": gender})\n",
    "        elif os.path.isfile(file_path) and (file_path.endswith('.docx') or file_path.endswith('.DOCX')):\n",
    "            resume_text = extract_text_from_docx(file_path)\n",
    "            mydictList.append({\"ResumeText\" : resume_text, \"cleanText\" : addGender(clean(resume_text)), \"category\": directory_name, \"gender\": gender})\n",
    "        else:\n",
    "            print('Unsupported File Format:', filename)\n",
    "        continue\n",
    "    return mydictList\n",
    "\n",
    "## This is for \"Original Dataset\"\n",
    "def extractingOriginalResume(directory_Path, gender) :\n",
    "    mydictList = []\n",
    "    directory = directory_Path\n",
    "    files = os.listdir(directory)\n",
    "    for filename in files :\n",
    "        file_path = os.path.join(directory, filename)\n",
    "        if os.path.isfile(file_path) and file_path.endswith('.pdf'):\n",
    "            resume_text = extract_text_from_pdf(file_path)\n",
    "            mydictList.append({\"ResumeText\" : resume_text, \"cleanText\" : clean(resume_text), \"Rank\": int(os.path.splitext(filename)[0]), \"gender\": gender})\n",
    "        elif os.path.isfile(file_path) and (file_path.endswith('.docx') or file_path.endswith('.DOCX')):\n",
    "            resume_text = extract_text_from_docx(file_path)\n",
    "            mydictList.append({\"ResumeText\" : resume_text, \"cleanText\" : clean(resume_text), \"Rank\": int(os.path.splitext(filename)[0]), \"gender\": gender})\n",
    "        else:\n",
    "            print('Unsupported File Format:', filename)\n",
    "        continue\n",
    "    return mydictList"
   ]
  },
  {
   "cell_type": "code",
   "execution_count": 133,
   "id": "828be80e-f2f4-43ed-a057-fd4c0cbf5d9a",
   "metadata": {},
   "outputs": [],
   "source": [
    "import pandas as pd"
   ]
  },
  {
   "cell_type": "markdown",
   "id": "b680a1a7-00e0-4600-bf84-fa23dc7473a0",
   "metadata": {},
   "source": [
    "#### 1.4 Extract \"Kaggle Dataset\" and job description for each category"
   ]
  },
  {
   "cell_type": "code",
   "execution_count": 135,
   "id": "bb78dd38-9367-48db-a829-58763ae3d41a",
   "metadata": {},
   "outputs": [
    {
     "name": "stdout",
     "output_type": "stream",
     "text": [
      "22\n",
      "['ACCOUNTANT', 'ADVOCATE', 'AGRICULTURE', 'APPAREL', 'ARTS', 'AVIATION', 'BANKING', 'BUSINESS-DEVELOPMENT', 'CHEF', 'CONSTRUCTION', 'CONSULTANT', 'DESIGNER', 'DIGITAL-MEDIA', 'ENGINEERING', 'FINANCE', 'FITNESS', 'HEALTHCARE', 'HR', 'INFORMATION-TECHNOLOGY', 'PUBLIC-RELATIONS', 'SALES', 'TEACHER']\n"
     ]
    }
   ],
   "source": [
    "dir_path = \"./data\"\n",
    "\n",
    "dir_list = os.listdir(dir_path)\n",
    "print(len(dir_list))\n",
    "print(dir_list)"
   ]
  },
  {
   "cell_type": "code",
   "execution_count": 137,
   "id": "5c4f1b28-d1c0-4065-90f7-e75c36f0efe7",
   "metadata": {},
   "outputs": [],
   "source": [
    "data_list = []\n",
    "for dir_name in dir_list :\n",
    "    data_item = extractingResume(dir_path+\"/\"+dir_name, dir_name)\n",
    "    data_list = data_list + data_item"
   ]
  },
  {
   "cell_type": "code",
   "execution_count": 139,
   "id": "2d1d3649-5333-4db8-87fc-7474d9ecb57a",
   "metadata": {},
   "outputs": [
    {
     "data": {
      "text/html": [
       "<div>\n",
       "<style scoped>\n",
       "    .dataframe tbody tr th:only-of-type {\n",
       "        vertical-align: middle;\n",
       "    }\n",
       "\n",
       "    .dataframe tbody tr th {\n",
       "        vertical-align: top;\n",
       "    }\n",
       "\n",
       "    .dataframe thead th {\n",
       "        text-align: right;\n",
       "    }\n",
       "</style>\n",
       "<table border=\"1\" class=\"dataframe\">\n",
       "  <thead>\n",
       "    <tr style=\"text-align: right;\">\n",
       "      <th></th>\n",
       "      <th>ResumeText</th>\n",
       "      <th>cleanText</th>\n",
       "      <th>category</th>\n",
       "      <th>Gender_Male</th>\n",
       "    </tr>\n",
       "  </thead>\n",
       "  <tbody>\n",
       "    <tr>\n",
       "      <th>0</th>\n",
       "      <td>ACCOUNTANT\\nSummary\\n\\nFinancial Accountant sp...</td>\n",
       "      <td>Male ACCOUNTANT Summary Financial Accountant s...</td>\n",
       "      <td>ACCOUNTANT</td>\n",
       "      <td>1.0</td>\n",
       "    </tr>\n",
       "    <tr>\n",
       "      <th>1</th>\n",
       "      <td>STAFF ACCOUNTANT\\nSummary\\nHighly analytical a...</td>\n",
       "      <td>Male STAFF ACCOUNTANT Summary Highly analytica...</td>\n",
       "      <td>ACCOUNTANT</td>\n",
       "      <td>1.0</td>\n",
       "    </tr>\n",
       "    <tr>\n",
       "      <th>2</th>\n",
       "      <td>ACCOUNTANT\\nProfessional Summary\\nTo obtain a ...</td>\n",
       "      <td>Female ACCOUNTANT Professional Summary obtain ...</td>\n",
       "      <td>ACCOUNTANT</td>\n",
       "      <td>0.0</td>\n",
       "    </tr>\n",
       "    <tr>\n",
       "      <th>3</th>\n",
       "      <td>SENIOR ACCOUNTANT\\nExperience\\nCompany Name Ju...</td>\n",
       "      <td>Female SENIOR ACCOUNTANT Experience Company Na...</td>\n",
       "      <td>ACCOUNTANT</td>\n",
       "      <td>0.0</td>\n",
       "    </tr>\n",
       "    <tr>\n",
       "      <th>4</th>\n",
       "      <td>SENIOR ACCOUNTANT\\nProfessional Summary\\nSenio...</td>\n",
       "      <td>Female SENIOR ACCOUNTANT Professional Summary ...</td>\n",
       "      <td>ACCOUNTANT</td>\n",
       "      <td>0.0</td>\n",
       "    </tr>\n",
       "  </tbody>\n",
       "</table>\n",
       "</div>"
      ],
      "text/plain": [
       "                                          ResumeText  \\\n",
       "0  ACCOUNTANT\\nSummary\\n\\nFinancial Accountant sp...   \n",
       "1  STAFF ACCOUNTANT\\nSummary\\nHighly analytical a...   \n",
       "2  ACCOUNTANT\\nProfessional Summary\\nTo obtain a ...   \n",
       "3  SENIOR ACCOUNTANT\\nExperience\\nCompany Name Ju...   \n",
       "4  SENIOR ACCOUNTANT\\nProfessional Summary\\nSenio...   \n",
       "\n",
       "                                           cleanText    category  Gender_Male  \n",
       "0  Male ACCOUNTANT Summary Financial Accountant s...  ACCOUNTANT          1.0  \n",
       "1  Male STAFF ACCOUNTANT Summary Highly analytica...  ACCOUNTANT          1.0  \n",
       "2  Female ACCOUNTANT Professional Summary obtain ...  ACCOUNTANT          0.0  \n",
       "3  Female SENIOR ACCOUNTANT Experience Company Na...  ACCOUNTANT          0.0  \n",
       "4  Female SENIOR ACCOUNTANT Professional Summary ...  ACCOUNTANT          0.0  "
      ]
     },
     "execution_count": 139,
     "metadata": {},
     "output_type": "execute_result"
    }
   ],
   "source": [
    "resumes_df = pd.DataFrame(data_list)\n",
    "resumes_df.loc[resumes_df['gender'] == \"Male\", 'Gender_Male'] = 1 \n",
    "resumes_df.loc[resumes_df['gender'] == \"Female\", 'Gender_Male'] = 0 \n",
    "resumes_df = resumes_df.drop(columns = ['gender'])\n",
    "resumes_df.head()"
   ]
  },
  {
   "cell_type": "code",
   "execution_count": 141,
   "id": "c5c65191-153e-40da-a71d-50083a4c61a7",
   "metadata": {},
   "outputs": [
    {
     "data": {
      "text/plain": [
       "Gender_Male\n",
       "0.0    1223\n",
       "1.0    1203\n",
       "Name: count, dtype: int64"
      ]
     },
     "execution_count": 141,
     "metadata": {},
     "output_type": "execute_result"
    }
   ],
   "source": [
    "resumes_df['Gender_Male'].value_counts()"
   ]
  },
  {
   "cell_type": "code",
   "execution_count": 143,
   "id": "052baec2-be54-4077-a263-fb4833595c6b",
   "metadata": {},
   "outputs": [
    {
     "data": {
      "text/html": [
       "<div>\n",
       "<style scoped>\n",
       "    .dataframe tbody tr th:only-of-type {\n",
       "        vertical-align: middle;\n",
       "    }\n",
       "\n",
       "    .dataframe tbody tr th {\n",
       "        vertical-align: top;\n",
       "    }\n",
       "\n",
       "    .dataframe thead th {\n",
       "        text-align: right;\n",
       "    }\n",
       "</style>\n",
       "<table border=\"1\" class=\"dataframe\">\n",
       "  <thead>\n",
       "    <tr style=\"text-align: right;\">\n",
       "      <th></th>\n",
       "      <th>job</th>\n",
       "      <th>job_details</th>\n",
       "    </tr>\n",
       "  </thead>\n",
       "  <tbody>\n",
       "    <tr>\n",
       "      <th>0</th>\n",
       "      <td>ACCOUNTANT</td>\n",
       "      <td>We are seeking trustworthy candidates who work...</td>\n",
       "    </tr>\n",
       "    <tr>\n",
       "      <th>1</th>\n",
       "      <td>ADVOCATE</td>\n",
       "      <td>Advocates play a crucial role in providing sup...</td>\n",
       "    </tr>\n",
       "    <tr>\n",
       "      <th>2</th>\n",
       "      <td>AGRICULTURE</td>\n",
       "      <td>An agricultural worker performs various tasks ...</td>\n",
       "    </tr>\n",
       "    <tr>\n",
       "      <th>3</th>\n",
       "      <td>APPAREL</td>\n",
       "      <td>Apparel industry is related to clothing and ot...</td>\n",
       "    </tr>\n",
       "    <tr>\n",
       "      <th>4</th>\n",
       "      <td>ARTS</td>\n",
       "      <td>An artist's main assignment is to create somet...</td>\n",
       "    </tr>\n",
       "  </tbody>\n",
       "</table>\n",
       "</div>"
      ],
      "text/plain": [
       "           job                                        job_details\n",
       "0   ACCOUNTANT  We are seeking trustworthy candidates who work...\n",
       "1     ADVOCATE  Advocates play a crucial role in providing sup...\n",
       "2  AGRICULTURE  An agricultural worker performs various tasks ...\n",
       "3      APPAREL  Apparel industry is related to clothing and ot...\n",
       "4         ARTS  An artist's main assignment is to create somet..."
      ]
     },
     "execution_count": 143,
     "metadata": {},
     "output_type": "execute_result"
    }
   ],
   "source": [
    "jobs_df = pd.read_csv('./jobdescriptions/jobs.csv')\n",
    "jobs_df.head()"
   ]
  },
  {
   "cell_type": "markdown",
   "id": "003a2797-df9a-4250-8ccc-cef43f3d14b9",
   "metadata": {},
   "source": [
    "#### 1.5 Extract Original Dataset and a single original job description "
   ]
  },
  {
   "cell_type": "code",
   "execution_count": 538,
   "id": "aceaaa4f-db3e-4883-9695-c384345f5585",
   "metadata": {},
   "outputs": [],
   "source": [
    "original_resumes_list = extractingOriginalResume(\"./original data/Female\",\"Female\") + extractingOriginalResume(\"./original data/Male\",\"Male\")"
   ]
  },
  {
   "cell_type": "code",
   "execution_count": 542,
   "id": "a2c56591-8d5d-45e2-909d-e2443de25c74",
   "metadata": {},
   "outputs": [
    {
     "data": {
      "text/html": [
       "<div>\n",
       "<style scoped>\n",
       "    .dataframe tbody tr th:only-of-type {\n",
       "        vertical-align: middle;\n",
       "    }\n",
       "\n",
       "    .dataframe tbody tr th {\n",
       "        vertical-align: top;\n",
       "    }\n",
       "\n",
       "    .dataframe thead th {\n",
       "        text-align: right;\n",
       "    }\n",
       "</style>\n",
       "<table border=\"1\" class=\"dataframe\">\n",
       "  <thead>\n",
       "    <tr style=\"text-align: right;\">\n",
       "      <th></th>\n",
       "      <th>ResumeText</th>\n",
       "      <th>cleanText</th>\n",
       "      <th>Rank</th>\n",
       "      <th>gender</th>\n",
       "    </tr>\n",
       "  </thead>\n",
       "  <tbody>\n",
       "    <tr>\n",
       "      <th>0</th>\n",
       "      <td>Choo Gui Yi, Ivy\\n\\n\\n\\nAddress: 38 Lorong N T...</td>\n",
       "      <td>Choo Gui Yi Ivy Address 38 Lorong N Telok Kura...</td>\n",
       "      <td>1</td>\n",
       "      <td>Female</td>\n",
       "    </tr>\n",
       "    <tr>\n",
       "      <th>1</th>\n",
       "      <td>Curriculum Vitae\\n\\nOlivia Karina Peter (Ms)\\n...</td>\n",
       "      <td>Curriculum Vitae Olivia Karina Peter Ms Mobile...</td>\n",
       "      <td>14</td>\n",
       "      <td>Female</td>\n",
       "    </tr>\n",
       "    <tr>\n",
       "      <th>2</th>\n",
       "      <td>TASNEEM NASRULLA\\n\\nPROFESSIONAL EXPERIENCE\\n\\...</td>\n",
       "      <td>TASNEEM NASRULLA PROFESSIONAL EXPERIENCE Apr 2...</td>\n",
       "      <td>15</td>\n",
       "      <td>Female</td>\n",
       "    </tr>\n",
       "    <tr>\n",
       "      <th>3</th>\n",
       "      <td>Lau  Peiwen  Erwina \\n\\n   +65 90083183 \\n\\nEr...</td>\n",
       "      <td>Lau Peiwen Erwina 65 90083183 Date Birth 29th ...</td>\n",
       "      <td>17</td>\n",
       "      <td>Female</td>\n",
       "    </tr>\n",
       "    <tr>\n",
       "      <th>4</th>\n",
       "      <td>NOT PROTECTIVELY MARKED\\n\\n\\n\\nNOT PROTECTIVEL...</td>\n",
       "      <td>PROTECTIVELY MARKED PROTECTIVELY MARKED Radhik...</td>\n",
       "      <td>18</td>\n",
       "      <td>Female</td>\n",
       "    </tr>\n",
       "    <tr>\n",
       "      <th>5</th>\n",
       "      <td>Ocvia Freriana\\nSingapore\\n\\nCompliance profes...</td>\n",
       "      <td>Ocvia Freriana Singapore Compliance profession...</td>\n",
       "      <td>19</td>\n",
       "      <td>Female</td>\n",
       "    </tr>\n",
       "    <tr>\n",
       "      <th>6</th>\n",
       "      <td>CURRICULUM VITAE\\n\\n\\n\\n         \\n\\nNAME:    ...</td>\n",
       "      <td>CURRICULUM VITAE NAME Gloria Cheng Ge Fang EMA...</td>\n",
       "      <td>2</td>\n",
       "      <td>Female</td>\n",
       "    </tr>\n",
       "    <tr>\n",
       "      <th>7</th>\n",
       "      <td>ROHINI PRAKASH, CA \\nSINGAPORE |+ 65 98624747 ...</td>\n",
       "      <td>ROHINI PRAKASH CA SINGAPORE 65 98624747 INVEST...</td>\n",
       "      <td>5</td>\n",
       "      <td>Female</td>\n",
       "    </tr>\n",
       "    <tr>\n",
       "      <th>8</th>\n",
       "      <td>1\\n\\n \\n\\n THE SEARCH SPECIALISTS FOR THE FUND...</td>\n",
       "      <td>1 SEARCH SPECIALISTS FUNDS INDUSTRY LONDON LUX...</td>\n",
       "      <td>8</td>\n",
       "      <td>Female</td>\n",
       "    </tr>\n",
       "    <tr>\n",
       "      <th>9</th>\n",
       "      <td>Trisa Tay, CA\\n\\n\\n\\n\\n\\n                     ...</td>\n",
       "      <td>Trisa Tay CA TRISA TAY CHARTERED ACCOUNTANT CA...</td>\n",
       "      <td>9</td>\n",
       "      <td>Female</td>\n",
       "    </tr>\n",
       "    <tr>\n",
       "      <th>10</th>\n",
       "      <td>PERSONAL PARTICULARS\\n\\nName: Lee Li Ting \\n\\n...</td>\n",
       "      <td>PERSONAL PARTICULARS Name Lee Li Ting Contact ...</td>\n",
       "      <td>10</td>\n",
       "      <td>Male</td>\n",
       "    </tr>\n",
       "    <tr>\n",
       "      <th>11</th>\n",
       "      <td>Man Hoe Keung, Jonathan\\n\\n\\n\\n\\n\\n\\n\\nPersona...</td>\n",
       "      <td>Man Hoe Keung Jonathan Personal Particulars Da...</td>\n",
       "      <td>11</td>\n",
       "      <td>Male</td>\n",
       "    </tr>\n",
       "    <tr>\n",
       "      <th>12</th>\n",
       "      <td>SALEEM LALANI \\nLinkedIn: https://sg.linkedin....</td>\n",
       "      <td>SALEEM LALANI LinkedIn Skype saleemlalani Mobi...</td>\n",
       "      <td>12</td>\n",
       "      <td>Male</td>\n",
       "    </tr>\n",
       "    <tr>\n",
       "      <th>13</th>\n",
       "      <td>Felyna Lee Hui Chay, CFA \\nRNF Rep. No.: LHC30...</td>\n",
       "      <td>Felyna Lee Hui Chay CFA RNF Rep LHC300105930 6...</td>\n",
       "      <td>13</td>\n",
       "      <td>Male</td>\n",
       "    </tr>\n",
       "    <tr>\n",
       "      <th>14</th>\n",
       "      <td>Ryan Tang \\nCompliance Professional \\nEmail: r...</td>\n",
       "      <td>Ryan Tang Compliance Professional Email url Mo...</td>\n",
       "      <td>16</td>\n",
       "      <td>Male</td>\n",
       "    </tr>\n",
       "    <tr>\n",
       "      <th>15</th>\n",
       "      <td>Curriculum Vitae \\n\\nPersonal Details  \\nName:...</td>\n",
       "      <td>Curriculum Vitae Personal Details Name Wong Zh...</td>\n",
       "      <td>3</td>\n",
       "      <td>Male</td>\n",
       "    </tr>\n",
       "    <tr>\n",
       "      <th>16</th>\n",
       "      <td>Education\\n2008 \\n\\n2005 \\n\\nWork \\nExperience...</td>\n",
       "      <td>Education 2008 2005 Work Experience 2011Presen...</td>\n",
       "      <td>4</td>\n",
       "      <td>Male</td>\n",
       "    </tr>\n",
       "    <tr>\n",
       "      <th>17</th>\n",
       "      <td>PENNY LIM \\n         Contact No: 9171 ...</td>\n",
       "      <td>PENNY LIM Contact 9171 6979 Email WORK EXPERIE...</td>\n",
       "      <td>6</td>\n",
       "      <td>Male</td>\n",
       "    </tr>\n",
       "    <tr>\n",
       "      <th>18</th>\n",
       "      <td>Loh Pei Shang\\n\\nAddress: Block 625 #27-144 \\n...</td>\n",
       "      <td>Loh Pei Shang Address Block 625 27144 Senja Ro...</td>\n",
       "      <td>7</td>\n",
       "      <td>Male</td>\n",
       "    </tr>\n",
       "  </tbody>\n",
       "</table>\n",
       "</div>"
      ],
      "text/plain": [
       "                                           ResumeText  \\\n",
       "0   Choo Gui Yi, Ivy\\n\\n\\n\\nAddress: 38 Lorong N T...   \n",
       "1   Curriculum Vitae\\n\\nOlivia Karina Peter (Ms)\\n...   \n",
       "2   TASNEEM NASRULLA\\n\\nPROFESSIONAL EXPERIENCE\\n\\...   \n",
       "3   Lau  Peiwen  Erwina \\n\\n   +65 90083183 \\n\\nEr...   \n",
       "4   NOT PROTECTIVELY MARKED\\n\\n\\n\\nNOT PROTECTIVEL...   \n",
       "5   Ocvia Freriana\\nSingapore\\n\\nCompliance profes...   \n",
       "6   CURRICULUM VITAE\\n\\n\\n\\n         \\n\\nNAME:    ...   \n",
       "7   ROHINI PRAKASH, CA \\nSINGAPORE |+ 65 98624747 ...   \n",
       "8   1\\n\\n \\n\\n THE SEARCH SPECIALISTS FOR THE FUND...   \n",
       "9   Trisa Tay, CA\\n\\n\\n\\n\\n\\n                     ...   \n",
       "10  PERSONAL PARTICULARS\\n\\nName: Lee Li Ting \\n\\n...   \n",
       "11  Man Hoe Keung, Jonathan\\n\\n\\n\\n\\n\\n\\n\\nPersona...   \n",
       "12  SALEEM LALANI \\nLinkedIn: https://sg.linkedin....   \n",
       "13  Felyna Lee Hui Chay, CFA \\nRNF Rep. No.: LHC30...   \n",
       "14  Ryan Tang \\nCompliance Professional \\nEmail: r...   \n",
       "15  Curriculum Vitae \\n\\nPersonal Details  \\nName:...   \n",
       "16  Education\\n2008 \\n\\n2005 \\n\\nWork \\nExperience...   \n",
       "17          PENNY LIM \\n         Contact No: 9171 ...   \n",
       "18  Loh Pei Shang\\n\\nAddress: Block 625 #27-144 \\n...   \n",
       "\n",
       "                                            cleanText  Rank  gender  \n",
       "0   Choo Gui Yi Ivy Address 38 Lorong N Telok Kura...     1  Female  \n",
       "1   Curriculum Vitae Olivia Karina Peter Ms Mobile...    14  Female  \n",
       "2   TASNEEM NASRULLA PROFESSIONAL EXPERIENCE Apr 2...    15  Female  \n",
       "3   Lau Peiwen Erwina 65 90083183 Date Birth 29th ...    17  Female  \n",
       "4   PROTECTIVELY MARKED PROTECTIVELY MARKED Radhik...    18  Female  \n",
       "5   Ocvia Freriana Singapore Compliance profession...    19  Female  \n",
       "6   CURRICULUM VITAE NAME Gloria Cheng Ge Fang EMA...     2  Female  \n",
       "7   ROHINI PRAKASH CA SINGAPORE 65 98624747 INVEST...     5  Female  \n",
       "8   1 SEARCH SPECIALISTS FUNDS INDUSTRY LONDON LUX...     8  Female  \n",
       "9   Trisa Tay CA TRISA TAY CHARTERED ACCOUNTANT CA...     9  Female  \n",
       "10  PERSONAL PARTICULARS Name Lee Li Ting Contact ...    10    Male  \n",
       "11  Man Hoe Keung Jonathan Personal Particulars Da...    11    Male  \n",
       "12  SALEEM LALANI LinkedIn Skype saleemlalani Mobi...    12    Male  \n",
       "13  Felyna Lee Hui Chay CFA RNF Rep LHC300105930 6...    13    Male  \n",
       "14  Ryan Tang Compliance Professional Email url Mo...    16    Male  \n",
       "15  Curriculum Vitae Personal Details Name Wong Zh...     3    Male  \n",
       "16  Education 2008 2005 Work Experience 2011Presen...     4    Male  \n",
       "17  PENNY LIM Contact 9171 6979 Email WORK EXPERIE...     6    Male  \n",
       "18  Loh Pei Shang Address Block 625 27144 Senja Ro...     7    Male  "
      ]
     },
     "execution_count": 542,
     "metadata": {},
     "output_type": "execute_result"
    }
   ],
   "source": [
    "original_resumes_df = pd.DataFrame(original_resumes_list)\n",
    "original_resumes_df.head(20)"
   ]
  },
  {
   "cell_type": "code",
   "execution_count": 430,
   "id": "c71600f2-6830-4383-a36c-8a9b9b907ef2",
   "metadata": {},
   "outputs": [
    {
     "name": "stdout",
     "output_type": "stream",
     "text": [
      "['Assist with the implementation of a new Singapore based investment platform that will be used as the primary investment holding platform for Oaktree investments in the APAC region  Manage the accounting and administration function across all the limited partnership structures and Section 13x/R SPV’s in our local Singapore based investment platform and all our SPV’s across the APAC region Serve on the board of directors of SPV’s across the APAC region as and when required Manage the accounting and operations of the local service company set up to provide administration of the Singapore platform   Work closely with and oversee the work carried out by external service providers who will complete the local accounting, legal, tax advisory and compliance and company secretarial work on our Singapore platform and across the APAC region   Assist with the setting up of new investment structures for any new deals ensuring that they are operational in advance of deal completion and with cash repatriation during the life of investment and upon exit Manage the local annual audit and quarterly accounting compliance process, dealing directly with external audit firms across all our asset classes (Real Estate, Distressed Debt, Aviation, Loan Origination) incorporating all SPV’s to ensure all statutory accounting deliverables are achieved within the defined deadlines covering annual audits and management accounting reporting across all our SPV’s. Review audited annual and interim financial statements (including workings) in accordance with relevant accounting standards and the relevant regulatory disclosure requirements. Provide accounting solutions to ensure a smooth audit process to close Develop procedures and controls tailored for the Singapore platform that meet local requirements, are consistent with Oaktree’s policies, and leverage best practices from other similar Oaktree SPV operations. Bring experience from past roles and leverage those relationships to develop Oaktree practices in Singapore and APAC. Ensure that all books and records are maintained and up to date for all SPV’s in the Singapore investment platform and for the region   Maintain SPV bank accounts ensuring that robust controls and procedures are in place Maintain, develop and grow key relationships with our service providers and external asset advisors  Lead weekly conference calls and monitor progress of the financial statement preparation by the service providers Keep log of accounting and administration issues encountered and report regularly to direct and senior management any issues and areas for improvement Ensure that all inter-company balances are reconciled on a quarterly basis Monitor key ratios (e.g. debt to equity ratio’s)   Identifying and implementing improvements in systems and processes surrounding all the above areas Oversee regulatory filing submissions to the MAS  Perform other duties as required from time to time ']\n"
     ]
    }
   ],
   "source": [
    "with open('./jobdescriptions/oaktree.txt', 'r') as file:\n",
    "    original_job_data = [file.read().replace('\\n', '')]\n",
    "\n",
    "print(original_job_data)"
   ]
  },
  {
   "cell_type": "markdown",
   "id": "aa7ff83e-e476-458f-accf-07096ba9e44e",
   "metadata": {},
   "source": [
    "### Task 2 - vectorizing resumes and jobs"
   ]
  },
  {
   "cell_type": "code",
   "execution_count": 146,
   "id": "38f654a0-b369-4ae6-8bf5-8718b64050fb",
   "metadata": {},
   "outputs": [],
   "source": [
    "from sklearn.feature_extraction.text import TfidfVectorizer"
   ]
  },
  {
   "cell_type": "markdown",
   "id": "94f35cd9-f8a3-45f8-b2fa-2a1dbd5de482",
   "metadata": {},
   "source": [
    "#### 2.1 Vectorizing Kaggle web-scrapped resumes and jobs"
   ]
  },
  {
   "cell_type": "code",
   "execution_count": 148,
   "id": "39c195e2-7866-4212-b416-a46a728aa60d",
   "metadata": {},
   "outputs": [],
   "source": [
    "resumes_list = resumes_df['cleanText'].to_list()\n",
    "jobs_list = list(jobs_df['job_details'])\n",
    "tfidfvectorizer = TfidfVectorizer(analyzer='word' , stop_words='english',)\n",
    "tfidfvectorizer.fit(jobs_list)\n",
    "tfidf_X = tfidfvectorizer.transform(resumes_list)\n",
    "X = tfidf_X.todense().A\n",
    "tfidf_Y = tfidfvectorizer.transform(jobs_list)\n",
    "Y = tfidf_Y.todense().A"
   ]
  },
  {
   "cell_type": "markdown",
   "id": "11146d81-9bd2-466a-ba1f-9c746f387c2d",
   "metadata": {},
   "source": [
    "#### 2.2 vectorizing orignial resumes and related job data"
   ]
  },
  {
   "cell_type": "code",
   "execution_count": 544,
   "id": "899ef63a-1e6c-4648-9955-496fd50ef98a",
   "metadata": {},
   "outputs": [],
   "source": [
    "original_resumes_list = original_resumes_df['cleanText'].to_list()\n",
    "tfidfvectorizer_og = TfidfVectorizer(analyzer='word' , stop_words='english',)\n",
    "tfidfvectorizer_og.fit(jobs_list)\n",
    "tfidf_og_X = tfidfvectorizer_og.transform(original_resumes_list)\n",
    "X_og = tfidf_og_X.todense().A\n",
    "tfidf_og_Y = tfidfvectorizer_og.transform(original_job_data)\n",
    "Y_og = tfidf_og_Y.todense().A"
   ]
  },
  {
   "cell_type": "markdown",
   "id": "24de1dd5-7b47-4fce-86be-7d0c9b152993",
   "metadata": {},
   "source": [
    "### Task 3 - Assessing Similarity Performance in Original Dataset and analysis\n",
    "\n",
    "We get cosine similarity Matrix for the dataset and predicted result of the resumes based on the similarity"
   ]
  },
  {
   "cell_type": "markdown",
   "id": "725ef410-c6ff-4b3c-9ea2-300c4721fab4",
   "metadata": {},
   "source": [
    "#### 3.1 Get Similarity Matrix and create a Resumes dataframe with similarity"
   ]
  },
  {
   "cell_type": "code",
   "execution_count": 439,
   "id": "57791b29-403d-401a-9f2b-6bf227201c2a",
   "metadata": {},
   "outputs": [],
   "source": [
    "from sklearn.metrics.pairwise import cosine_similarity"
   ]
  },
  {
   "cell_type": "code",
   "execution_count": 546,
   "id": "2f8bdee4-ac57-4d7f-b578-94725b69b4ee",
   "metadata": {},
   "outputs": [],
   "source": [
    "# this is for original dataset\n",
    "similarities_og = cosine_similarity(X_og, Y_og)"
   ]
  },
  {
   "cell_type": "code",
   "execution_count": 548,
   "id": "941ffda8-ee5c-4639-8ef8-068069608f16",
   "metadata": {},
   "outputs": [
    {
     "data": {
      "text/html": [
       "<div>\n",
       "<style scoped>\n",
       "    .dataframe tbody tr th:only-of-type {\n",
       "        vertical-align: middle;\n",
       "    }\n",
       "\n",
       "    .dataframe tbody tr th {\n",
       "        vertical-align: top;\n",
       "    }\n",
       "\n",
       "    .dataframe thead th {\n",
       "        text-align: right;\n",
       "    }\n",
       "</style>\n",
       "<table border=\"1\" class=\"dataframe\">\n",
       "  <thead>\n",
       "    <tr style=\"text-align: right;\">\n",
       "      <th></th>\n",
       "      <th>Similarity</th>\n",
       "    </tr>\n",
       "  </thead>\n",
       "  <tbody>\n",
       "    <tr>\n",
       "      <th>0</th>\n",
       "      <td>0.255232</td>\n",
       "    </tr>\n",
       "    <tr>\n",
       "      <th>1</th>\n",
       "      <td>0.230127</td>\n",
       "    </tr>\n",
       "    <tr>\n",
       "      <th>2</th>\n",
       "      <td>0.277726</td>\n",
       "    </tr>\n",
       "    <tr>\n",
       "      <th>3</th>\n",
       "      <td>0.354138</td>\n",
       "    </tr>\n",
       "    <tr>\n",
       "      <th>4</th>\n",
       "      <td>0.289732</td>\n",
       "    </tr>\n",
       "  </tbody>\n",
       "</table>\n",
       "</div>"
      ],
      "text/plain": [
       "   Similarity\n",
       "0    0.255232\n",
       "1    0.230127\n",
       "2    0.277726\n",
       "3    0.354138\n",
       "4    0.289732"
      ]
     },
     "execution_count": 548,
     "metadata": {},
     "output_type": "execute_result"
    }
   ],
   "source": [
    "sim_og_df = pd.DataFrame(similarities_og, columns = [\"Similarity\"]) \n",
    "sim_og_df.head()"
   ]
  },
  {
   "cell_type": "code",
   "execution_count": 556,
   "id": "083f9007-5380-4268-98e4-5e34f46d0a4c",
   "metadata": {},
   "outputs": [
    {
     "data": {
      "text/html": [
       "<div>\n",
       "<style scoped>\n",
       "    .dataframe tbody tr th:only-of-type {\n",
       "        vertical-align: middle;\n",
       "    }\n",
       "\n",
       "    .dataframe tbody tr th {\n",
       "        vertical-align: top;\n",
       "    }\n",
       "\n",
       "    .dataframe thead th {\n",
       "        text-align: right;\n",
       "    }\n",
       "</style>\n",
       "<table border=\"1\" class=\"dataframe\">\n",
       "  <thead>\n",
       "    <tr style=\"text-align: right;\">\n",
       "      <th></th>\n",
       "      <th>ResumeText</th>\n",
       "      <th>cleanText</th>\n",
       "      <th>Rank</th>\n",
       "      <th>gender</th>\n",
       "      <th>Similarity</th>\n",
       "    </tr>\n",
       "  </thead>\n",
       "  <tbody>\n",
       "    <tr>\n",
       "      <th>0</th>\n",
       "      <td>Choo Gui Yi, Ivy\\n\\n\\n\\nAddress: 38 Lorong N T...</td>\n",
       "      <td>Choo Gui Yi Ivy Address 38 Lorong N Telok Kura...</td>\n",
       "      <td>1</td>\n",
       "      <td>Female</td>\n",
       "      <td>0.255232</td>\n",
       "    </tr>\n",
       "    <tr>\n",
       "      <th>1</th>\n",
       "      <td>Curriculum Vitae\\n\\nOlivia Karina Peter (Ms)\\n...</td>\n",
       "      <td>Curriculum Vitae Olivia Karina Peter Ms Mobile...</td>\n",
       "      <td>14</td>\n",
       "      <td>Female</td>\n",
       "      <td>0.230127</td>\n",
       "    </tr>\n",
       "    <tr>\n",
       "      <th>2</th>\n",
       "      <td>TASNEEM NASRULLA\\n\\nPROFESSIONAL EXPERIENCE\\n\\...</td>\n",
       "      <td>TASNEEM NASRULLA PROFESSIONAL EXPERIENCE Apr 2...</td>\n",
       "      <td>15</td>\n",
       "      <td>Female</td>\n",
       "      <td>0.277726</td>\n",
       "    </tr>\n",
       "    <tr>\n",
       "      <th>3</th>\n",
       "      <td>Lau  Peiwen  Erwina \\n\\n   +65 90083183 \\n\\nEr...</td>\n",
       "      <td>Lau Peiwen Erwina 65 90083183 Date Birth 29th ...</td>\n",
       "      <td>17</td>\n",
       "      <td>Female</td>\n",
       "      <td>0.354138</td>\n",
       "    </tr>\n",
       "    <tr>\n",
       "      <th>4</th>\n",
       "      <td>NOT PROTECTIVELY MARKED\\n\\n\\n\\nNOT PROTECTIVEL...</td>\n",
       "      <td>PROTECTIVELY MARKED PROTECTIVELY MARKED Radhik...</td>\n",
       "      <td>18</td>\n",
       "      <td>Female</td>\n",
       "      <td>0.289732</td>\n",
       "    </tr>\n",
       "  </tbody>\n",
       "</table>\n",
       "</div>"
      ],
      "text/plain": [
       "                                          ResumeText  \\\n",
       "0  Choo Gui Yi, Ivy\\n\\n\\n\\nAddress: 38 Lorong N T...   \n",
       "1  Curriculum Vitae\\n\\nOlivia Karina Peter (Ms)\\n...   \n",
       "2  TASNEEM NASRULLA\\n\\nPROFESSIONAL EXPERIENCE\\n\\...   \n",
       "3  Lau  Peiwen  Erwina \\n\\n   +65 90083183 \\n\\nEr...   \n",
       "4  NOT PROTECTIVELY MARKED\\n\\n\\n\\nNOT PROTECTIVEL...   \n",
       "\n",
       "                                           cleanText  Rank  gender  Similarity  \n",
       "0  Choo Gui Yi Ivy Address 38 Lorong N Telok Kura...     1  Female    0.255232  \n",
       "1  Curriculum Vitae Olivia Karina Peter Ms Mobile...    14  Female    0.230127  \n",
       "2  TASNEEM NASRULLA PROFESSIONAL EXPERIENCE Apr 2...    15  Female    0.277726  \n",
       "3  Lau Peiwen Erwina 65 90083183 Date Birth 29th ...    17  Female    0.354138  \n",
       "4  PROTECTIVELY MARKED PROTECTIVELY MARKED Radhik...    18  Female    0.289732  "
      ]
     },
     "execution_count": 556,
     "metadata": {},
     "output_type": "execute_result"
    }
   ],
   "source": [
    "result_original_df = pd.merge(original_resumes_df, sim_og_df, left_index=True, right_index=True)\n",
    "result_original_df.head()"
   ]
  },
  {
   "cell_type": "code",
   "execution_count": 562,
   "id": "0f2e4deb-fbec-4efc-be9d-02db762329f2",
   "metadata": {},
   "outputs": [],
   "source": [
    "ranked_original_df = result_original_df.copy()"
   ]
  },
  {
   "cell_type": "code",
   "execution_count": 564,
   "id": "268b2d07-56c2-4b0c-bc5b-d4697f9ca443",
   "metadata": {},
   "outputs": [
    {
     "data": {
      "text/html": [
       "<div>\n",
       "<style scoped>\n",
       "    .dataframe tbody tr th:only-of-type {\n",
       "        vertical-align: middle;\n",
       "    }\n",
       "\n",
       "    .dataframe tbody tr th {\n",
       "        vertical-align: top;\n",
       "    }\n",
       "\n",
       "    .dataframe thead th {\n",
       "        text-align: right;\n",
       "    }\n",
       "</style>\n",
       "<table border=\"1\" class=\"dataframe\">\n",
       "  <thead>\n",
       "    <tr style=\"text-align: right;\">\n",
       "      <th></th>\n",
       "      <th>ResumeText</th>\n",
       "      <th>cleanText</th>\n",
       "      <th>Rank</th>\n",
       "      <th>Similarity</th>\n",
       "      <th>Result</th>\n",
       "      <th>Gender_Male</th>\n",
       "    </tr>\n",
       "  </thead>\n",
       "  <tbody>\n",
       "    <tr>\n",
       "      <th>0</th>\n",
       "      <td>Choo Gui Yi, Ivy\\n\\n\\n\\nAddress: 38 Lorong N T...</td>\n",
       "      <td>Choo Gui Yi Ivy Address 38 Lorong N Telok Kura...</td>\n",
       "      <td>1</td>\n",
       "      <td>0.255232</td>\n",
       "      <td>Pass</td>\n",
       "      <td>0.0</td>\n",
       "    </tr>\n",
       "    <tr>\n",
       "      <th>1</th>\n",
       "      <td>Curriculum Vitae\\n\\nOlivia Karina Peter (Ms)\\n...</td>\n",
       "      <td>Curriculum Vitae Olivia Karina Peter Ms Mobile...</td>\n",
       "      <td>14</td>\n",
       "      <td>0.230127</td>\n",
       "      <td>Fail</td>\n",
       "      <td>0.0</td>\n",
       "    </tr>\n",
       "    <tr>\n",
       "      <th>2</th>\n",
       "      <td>TASNEEM NASRULLA\\n\\nPROFESSIONAL EXPERIENCE\\n\\...</td>\n",
       "      <td>TASNEEM NASRULLA PROFESSIONAL EXPERIENCE Apr 2...</td>\n",
       "      <td>15</td>\n",
       "      <td>0.277726</td>\n",
       "      <td>Fail</td>\n",
       "      <td>0.0</td>\n",
       "    </tr>\n",
       "    <tr>\n",
       "      <th>3</th>\n",
       "      <td>Lau  Peiwen  Erwina \\n\\n   +65 90083183 \\n\\nEr...</td>\n",
       "      <td>Lau Peiwen Erwina 65 90083183 Date Birth 29th ...</td>\n",
       "      <td>17</td>\n",
       "      <td>0.354138</td>\n",
       "      <td>Fail</td>\n",
       "      <td>0.0</td>\n",
       "    </tr>\n",
       "    <tr>\n",
       "      <th>4</th>\n",
       "      <td>NOT PROTECTIVELY MARKED\\n\\n\\n\\nNOT PROTECTIVEL...</td>\n",
       "      <td>PROTECTIVELY MARKED PROTECTIVELY MARKED Radhik...</td>\n",
       "      <td>18</td>\n",
       "      <td>0.289732</td>\n",
       "      <td>Fail</td>\n",
       "      <td>0.0</td>\n",
       "    </tr>\n",
       "  </tbody>\n",
       "</table>\n",
       "</div>"
      ],
      "text/plain": [
       "                                          ResumeText  \\\n",
       "0  Choo Gui Yi, Ivy\\n\\n\\n\\nAddress: 38 Lorong N T...   \n",
       "1  Curriculum Vitae\\n\\nOlivia Karina Peter (Ms)\\n...   \n",
       "2  TASNEEM NASRULLA\\n\\nPROFESSIONAL EXPERIENCE\\n\\...   \n",
       "3  Lau  Peiwen  Erwina \\n\\n   +65 90083183 \\n\\nEr...   \n",
       "4  NOT PROTECTIVELY MARKED\\n\\n\\n\\nNOT PROTECTIVEL...   \n",
       "\n",
       "                                           cleanText  Rank  Similarity Result  \\\n",
       "0  Choo Gui Yi Ivy Address 38 Lorong N Telok Kura...     1    0.255232   Pass   \n",
       "1  Curriculum Vitae Olivia Karina Peter Ms Mobile...    14    0.230127   Fail   \n",
       "2  TASNEEM NASRULLA PROFESSIONAL EXPERIENCE Apr 2...    15    0.277726   Fail   \n",
       "3  Lau Peiwen Erwina 65 90083183 Date Birth 29th ...    17    0.354138   Fail   \n",
       "4  PROTECTIVELY MARKED PROTECTIVELY MARKED Radhik...    18    0.289732   Fail   \n",
       "\n",
       "   Gender_Male  \n",
       "0          0.0  \n",
       "1          0.0  \n",
       "2          0.0  \n",
       "3          0.0  \n",
       "4          0.0  "
      ]
     },
     "execution_count": 564,
     "metadata": {},
     "output_type": "execute_result"
    }
   ],
   "source": [
    "ranked_original_df.loc[ranked_original_df['Rank'] <= 10 , 'Result'] = \"Pass\"\n",
    "ranked_original_df.loc[ranked_original_df['Rank'] > 10 , 'Result'] = \"Fail\"\n",
    "\n",
    "ranked_original_df.loc[ranked_original_df['gender'] == \"Male\", 'Gender_Male'] = 1 \n",
    "ranked_original_df.loc[ranked_original_df['gender'] == \"Female\", 'Gender_Male'] = 0 \n",
    "ranked_original_df = ranked_original_df.drop(columns = ['gender'])\n",
    "\n",
    "ranked_original_df.head()"
   ]
  },
  {
   "cell_type": "code",
   "execution_count": 566,
   "id": "0168ceb2-7cf0-432a-9c99-79c2a3c99c96",
   "metadata": {},
   "outputs": [
    {
     "data": {
      "text/html": [
       "<div>\n",
       "<style scoped>\n",
       "    .dataframe tbody tr th:only-of-type {\n",
       "        vertical-align: middle;\n",
       "    }\n",
       "\n",
       "    .dataframe tbody tr th {\n",
       "        vertical-align: top;\n",
       "    }\n",
       "\n",
       "    .dataframe thead th {\n",
       "        text-align: right;\n",
       "    }\n",
       "</style>\n",
       "<table border=\"1\" class=\"dataframe\">\n",
       "  <thead>\n",
       "    <tr style=\"text-align: right;\">\n",
       "      <th></th>\n",
       "      <th>Similarity</th>\n",
       "      <th>Result</th>\n",
       "      <th>Gender_Male</th>\n",
       "    </tr>\n",
       "  </thead>\n",
       "  <tbody>\n",
       "    <tr>\n",
       "      <th>0</th>\n",
       "      <td>0.255232</td>\n",
       "      <td>Pass</td>\n",
       "      <td>0.0</td>\n",
       "    </tr>\n",
       "    <tr>\n",
       "      <th>1</th>\n",
       "      <td>0.230127</td>\n",
       "      <td>Fail</td>\n",
       "      <td>0.0</td>\n",
       "    </tr>\n",
       "    <tr>\n",
       "      <th>2</th>\n",
       "      <td>0.277726</td>\n",
       "      <td>Fail</td>\n",
       "      <td>0.0</td>\n",
       "    </tr>\n",
       "    <tr>\n",
       "      <th>3</th>\n",
       "      <td>0.354138</td>\n",
       "      <td>Fail</td>\n",
       "      <td>0.0</td>\n",
       "    </tr>\n",
       "    <tr>\n",
       "      <th>4</th>\n",
       "      <td>0.289732</td>\n",
       "      <td>Fail</td>\n",
       "      <td>0.0</td>\n",
       "    </tr>\n",
       "  </tbody>\n",
       "</table>\n",
       "</div>"
      ],
      "text/plain": [
       "   Similarity Result  Gender_Male\n",
       "0    0.255232   Pass          0.0\n",
       "1    0.230127   Fail          0.0\n",
       "2    0.277726   Fail          0.0\n",
       "3    0.354138   Fail          0.0\n",
       "4    0.289732   Fail          0.0"
      ]
     },
     "execution_count": 566,
     "metadata": {},
     "output_type": "execute_result"
    }
   ],
   "source": [
    "ranked_original_df = ranked_original_df.drop(columns = [\"Rank\", \"ResumeText\", \"cleanText\"])\n",
    "ranked_original_df.head()"
   ]
  },
  {
   "cell_type": "markdown",
   "id": "961927ae-8554-4741-aee4-39199b313ea5",
   "metadata": {},
   "source": [
    "#### 3.2 Similarity based prediction using RandomForest Classifier"
   ]
  },
  {
   "cell_type": "code",
   "execution_count": 623,
   "id": "6397da9d-abb7-4955-b45c-397479224427",
   "metadata": {},
   "outputs": [],
   "source": [
    "from sklearn.model_selection import train_test_split\n",
    "\n",
    "df_train_og, df_test_og = train_test_split(ranked_original_df,random_state=42, test_size=0.3, shuffle=True)\n",
    "\n",
    "X_train_og = df_train_og.drop(columns = ['Result'])\n",
    "Y_train_og = df_train_og['Result']\n",
    "\n",
    "X_test_og = df_test_og.drop(columns = ['Result'])\n",
    "Y_test_og = df_test_og['Result']"
   ]
  },
  {
   "cell_type": "code",
   "execution_count": 625,
   "id": "04600200-d3aa-4812-97ea-144faa1ce61a",
   "metadata": {},
   "outputs": [
    {
     "name": "stdout",
     "output_type": "stream",
     "text": [
      "              precision    recall  f1-score   support\n",
      "\n",
      "        Fail       0.67      0.67      0.67         3\n",
      "        Pass       0.67      0.67      0.67         3\n",
      "\n",
      "    accuracy                           0.67         6\n",
      "   macro avg       0.67      0.67      0.67         6\n",
      "weighted avg       0.67      0.67      0.67         6\n",
      "\n",
      "              precision    recall  f1-score   support\n",
      "\n",
      "        Fail       1.00      1.00      1.00         6\n",
      "        Pass       1.00      1.00      1.00         7\n",
      "\n",
      "    accuracy                           1.00        13\n",
      "   macro avg       1.00      1.00      1.00        13\n",
      "weighted avg       1.00      1.00      1.00        13\n",
      "\n"
     ]
    }
   ],
   "source": [
    "from sklearn.ensemble import RandomForestClassifier\n",
    "from sklearn.metrics import classification_report\n",
    "\n",
    "clf_og = RandomForestClassifier()\n",
    "clf_og.fit(X_train_og, Y_train_og)\n",
    "Y_test_pred_og = clf_og.predict(X_test_og)\n",
    "Y_train_pred_og = clf_og.predict(X_train_og)\n",
    "print(classification_report(Y_test_og, Y_test_pred_og))\n",
    "print(classification_report(Y_train_og, Y_train_pred_og))"
   ]
  },
  {
   "cell_type": "markdown",
   "id": "f6ca5289-255d-4a0a-a86e-31c163626ddf",
   "metadata": {},
   "source": [
    "##### Note: The accuracy in test data is 67% and in train data is 100%"
   ]
  },
  {
   "cell_type": "markdown",
   "id": "b1fdac23-4ae6-4736-b86a-9bc4c35a485c",
   "metadata": {},
   "source": [
    "#### 3.3 Finding Gender Bias"
   ]
  },
  {
   "cell_type": "code",
   "execution_count": 629,
   "id": "4fe25d24-e1c8-43c3-92e6-b69343e0213d",
   "metadata": {},
   "outputs": [],
   "source": [
    "from aif360.datasets import StandardDataset\n",
    "from aif360.metrics import BinaryLabelDatasetMetric"
   ]
  },
  {
   "cell_type": "code",
   "execution_count": 631,
   "id": "0d6c1ac6-11be-4fb4-a5c1-4dad97f3339f",
   "metadata": {},
   "outputs": [],
   "source": [
    "privileged_groups = [{'Gender_Male': 1}]\n",
    "unprivileged_groups = [{'Gender_Male': 0}]"
   ]
  },
  {
   "cell_type": "code",
   "execution_count": 633,
   "id": "deafc725-8d53-4ef3-a587-65b7136d99c4",
   "metadata": {},
   "outputs": [
    {
     "name": "stdout",
     "output_type": "stream",
     "text": [
      "Bias metrics for ACCOUNTANT Class \n",
      "SPD  -0.0714285714285714\n",
      "DI  0.875\n"
     ]
    }
   ],
   "source": [
    "dataset_train_og = StandardDataset(df_train_og, \n",
    "                          label_name='Result', \n",
    "                          favorable_classes=['Pass'], \n",
    "                          protected_attribute_names=['Gender_Male'], \n",
    "                          privileged_classes=[[1]])\n",
    "\n",
    "metric_train_og = BinaryLabelDatasetMetric(dataset_train_og, \n",
    "                                             unprivileged_groups=unprivileged_groups,\n",
    "                                             privileged_groups=privileged_groups)\n",
    "\n",
    "print(\"Bias metrics for ACCOUNTANT Class \")\n",
    "print(\"SPD \", metric_train_og.statistical_parity_difference())\n",
    "print(\"DI \", metric_train_og.disparate_impact())"
   ]
  },
  {
   "cell_type": "markdown",
   "id": "83252544-e3c9-4eb0-97cd-b492f6148829",
   "metadata": {},
   "source": [
    "##### Note: SPD < 0 and DI < 1, we can say that there is a slight bias towards the privilaged group i.e gender = Male. But since DI passes the 80% rule It can be considered as non discriminating in the hiring process.  "
   ]
  },
  {
   "cell_type": "markdown",
   "id": "ffb0a9a4-fdfa-4081-b933-b11400f3cc67",
   "metadata": {},
   "source": [
    "### Task 4 - Assessing similarity performance in Web-scrapped Resume Dataset and analysis"
   ]
  },
  {
   "cell_type": "markdown",
   "id": "4de1fd12-fa05-47b7-bdb0-16c6e15b23e9",
   "metadata": {},
   "source": [
    "#### 4.1 Get Similarity Matrix and create a Resumes dataframe with similarities"
   ]
  },
  {
   "cell_type": "code",
   "execution_count": 456,
   "id": "b6e7b342-e57c-4ff6-adaa-e162b46d6caa",
   "metadata": {},
   "outputs": [],
   "source": [
    "# this is for kaggle dataset \n",
    "similarities = cosine_similarity(X, Y)"
   ]
  },
  {
   "cell_type": "code",
   "execution_count": 458,
   "id": "0f600dbd-f75e-4cea-bdf6-1ef3684370b5",
   "metadata": {},
   "outputs": [
    {
     "data": {
      "text/html": [
       "<div>\n",
       "<style scoped>\n",
       "    .dataframe tbody tr th:only-of-type {\n",
       "        vertical-align: middle;\n",
       "    }\n",
       "\n",
       "    .dataframe tbody tr th {\n",
       "        vertical-align: top;\n",
       "    }\n",
       "\n",
       "    .dataframe thead th {\n",
       "        text-align: right;\n",
       "    }\n",
       "</style>\n",
       "<table border=\"1\" class=\"dataframe\">\n",
       "  <thead>\n",
       "    <tr style=\"text-align: right;\">\n",
       "      <th></th>\n",
       "      <th>ACCOUNTANT</th>\n",
       "      <th>ADVOCATE</th>\n",
       "      <th>AGRICULTURE</th>\n",
       "      <th>APPAREL</th>\n",
       "      <th>ARTS</th>\n",
       "      <th>AVIATION</th>\n",
       "      <th>BANKING</th>\n",
       "      <th>BUSINESS-DEVELOPMENT</th>\n",
       "      <th>CHEF</th>\n",
       "      <th>CONSTRUCTION</th>\n",
       "      <th>...</th>\n",
       "      <th>DIGITAL-MEDIA</th>\n",
       "      <th>ENGINEERING</th>\n",
       "      <th>FINANCE</th>\n",
       "      <th>FITNESS</th>\n",
       "      <th>HEALTHCARE</th>\n",
       "      <th>HR</th>\n",
       "      <th>INFORMATION-TECHNOLOGY</th>\n",
       "      <th>PUBLIC-RELATIONS</th>\n",
       "      <th>SALES</th>\n",
       "      <th>TEACHER</th>\n",
       "    </tr>\n",
       "  </thead>\n",
       "  <tbody>\n",
       "    <tr>\n",
       "      <th>0</th>\n",
       "      <td>0.367191</td>\n",
       "      <td>0.159090</td>\n",
       "      <td>0.126796</td>\n",
       "      <td>0.077386</td>\n",
       "      <td>0.044751</td>\n",
       "      <td>0.075339</td>\n",
       "      <td>0.080641</td>\n",
       "      <td>0.124356</td>\n",
       "      <td>0.097543</td>\n",
       "      <td>0.057657</td>\n",
       "      <td>...</td>\n",
       "      <td>0.038490</td>\n",
       "      <td>0.113420</td>\n",
       "      <td>0.358637</td>\n",
       "      <td>0.052826</td>\n",
       "      <td>0.054857</td>\n",
       "      <td>0.143595</td>\n",
       "      <td>0.138978</td>\n",
       "      <td>0.098829</td>\n",
       "      <td>0.101056</td>\n",
       "      <td>0.121479</td>\n",
       "    </tr>\n",
       "    <tr>\n",
       "      <th>1</th>\n",
       "      <td>0.332098</td>\n",
       "      <td>0.107284</td>\n",
       "      <td>0.087919</td>\n",
       "      <td>0.065034</td>\n",
       "      <td>0.035684</td>\n",
       "      <td>0.038768</td>\n",
       "      <td>0.115646</td>\n",
       "      <td>0.200860</td>\n",
       "      <td>0.086771</td>\n",
       "      <td>0.048215</td>\n",
       "      <td>...</td>\n",
       "      <td>0.033048</td>\n",
       "      <td>0.080275</td>\n",
       "      <td>0.366193</td>\n",
       "      <td>0.035228</td>\n",
       "      <td>0.033874</td>\n",
       "      <td>0.043389</td>\n",
       "      <td>0.106536</td>\n",
       "      <td>0.076702</td>\n",
       "      <td>0.179613</td>\n",
       "      <td>0.073416</td>\n",
       "    </tr>\n",
       "    <tr>\n",
       "      <th>2</th>\n",
       "      <td>0.152652</td>\n",
       "      <td>0.099753</td>\n",
       "      <td>0.028095</td>\n",
       "      <td>0.035142</td>\n",
       "      <td>0.022870</td>\n",
       "      <td>0.023178</td>\n",
       "      <td>0.169406</td>\n",
       "      <td>0.130659</td>\n",
       "      <td>0.027370</td>\n",
       "      <td>0.024641</td>\n",
       "      <td>...</td>\n",
       "      <td>0.018776</td>\n",
       "      <td>0.071713</td>\n",
       "      <td>0.135129</td>\n",
       "      <td>0.032164</td>\n",
       "      <td>0.065515</td>\n",
       "      <td>0.041380</td>\n",
       "      <td>0.104702</td>\n",
       "      <td>0.070230</td>\n",
       "      <td>0.168573</td>\n",
       "      <td>0.052803</td>\n",
       "    </tr>\n",
       "    <tr>\n",
       "      <th>3</th>\n",
       "      <td>0.323020</td>\n",
       "      <td>0.102498</td>\n",
       "      <td>0.027728</td>\n",
       "      <td>0.061147</td>\n",
       "      <td>0.045103</td>\n",
       "      <td>0.094261</td>\n",
       "      <td>0.141295</td>\n",
       "      <td>0.135330</td>\n",
       "      <td>0.051006</td>\n",
       "      <td>0.068489</td>\n",
       "      <td>...</td>\n",
       "      <td>0.027973</td>\n",
       "      <td>0.059533</td>\n",
       "      <td>0.324054</td>\n",
       "      <td>0.053802</td>\n",
       "      <td>0.018356</td>\n",
       "      <td>0.079859</td>\n",
       "      <td>0.104002</td>\n",
       "      <td>0.082970</td>\n",
       "      <td>0.159596</td>\n",
       "      <td>0.131249</td>\n",
       "    </tr>\n",
       "    <tr>\n",
       "      <th>4</th>\n",
       "      <td>0.257616</td>\n",
       "      <td>0.095625</td>\n",
       "      <td>0.061164</td>\n",
       "      <td>0.031256</td>\n",
       "      <td>0.030981</td>\n",
       "      <td>0.032045</td>\n",
       "      <td>0.106382</td>\n",
       "      <td>0.084383</td>\n",
       "      <td>0.022516</td>\n",
       "      <td>0.039428</td>\n",
       "      <td>...</td>\n",
       "      <td>0.041765</td>\n",
       "      <td>0.036468</td>\n",
       "      <td>0.216486</td>\n",
       "      <td>0.027416</td>\n",
       "      <td>0.028230</td>\n",
       "      <td>0.041927</td>\n",
       "      <td>0.101060</td>\n",
       "      <td>0.086502</td>\n",
       "      <td>0.071646</td>\n",
       "      <td>0.079350</td>\n",
       "    </tr>\n",
       "  </tbody>\n",
       "</table>\n",
       "<p>5 rows × 22 columns</p>\n",
       "</div>"
      ],
      "text/plain": [
       "   ACCOUNTANT  ADVOCATE  AGRICULTURE   APPAREL      ARTS  AVIATION   BANKING  \\\n",
       "0    0.367191  0.159090     0.126796  0.077386  0.044751  0.075339  0.080641   \n",
       "1    0.332098  0.107284     0.087919  0.065034  0.035684  0.038768  0.115646   \n",
       "2    0.152652  0.099753     0.028095  0.035142  0.022870  0.023178  0.169406   \n",
       "3    0.323020  0.102498     0.027728  0.061147  0.045103  0.094261  0.141295   \n",
       "4    0.257616  0.095625     0.061164  0.031256  0.030981  0.032045  0.106382   \n",
       "\n",
       "   BUSINESS-DEVELOPMENT      CHEF  CONSTRUCTION  ...  DIGITAL-MEDIA  \\\n",
       "0              0.124356  0.097543      0.057657  ...       0.038490   \n",
       "1              0.200860  0.086771      0.048215  ...       0.033048   \n",
       "2              0.130659  0.027370      0.024641  ...       0.018776   \n",
       "3              0.135330  0.051006      0.068489  ...       0.027973   \n",
       "4              0.084383  0.022516      0.039428  ...       0.041765   \n",
       "\n",
       "   ENGINEERING   FINANCE   FITNESS  HEALTHCARE        HR  \\\n",
       "0     0.113420  0.358637  0.052826    0.054857  0.143595   \n",
       "1     0.080275  0.366193  0.035228    0.033874  0.043389   \n",
       "2     0.071713  0.135129  0.032164    0.065515  0.041380   \n",
       "3     0.059533  0.324054  0.053802    0.018356  0.079859   \n",
       "4     0.036468  0.216486  0.027416    0.028230  0.041927   \n",
       "\n",
       "   INFORMATION-TECHNOLOGY  PUBLIC-RELATIONS     SALES   TEACHER  \n",
       "0                0.138978          0.098829  0.101056  0.121479  \n",
       "1                0.106536          0.076702  0.179613  0.073416  \n",
       "2                0.104702          0.070230  0.168573  0.052803  \n",
       "3                0.104002          0.082970  0.159596  0.131249  \n",
       "4                0.101060          0.086502  0.071646  0.079350  \n",
       "\n",
       "[5 rows x 22 columns]"
      ]
     },
     "execution_count": 458,
     "metadata": {},
     "output_type": "execute_result"
    }
   ],
   "source": [
    "sim_df = pd.DataFrame(similarities, columns = dir_list)\n",
    "sim_df.head()"
   ]
  },
  {
   "cell_type": "code",
   "execution_count": 460,
   "id": "032aaef5-4db3-4a41-b99d-dcb7368cf123",
   "metadata": {},
   "outputs": [],
   "source": [
    "result_df = pd.merge(resumes_df, sim_df, left_index=True, right_index=True)"
   ]
  },
  {
   "cell_type": "code",
   "execution_count": 462,
   "id": "344be1ca-cc9f-4932-a697-517f949c4532",
   "metadata": {},
   "outputs": [
    {
     "name": "stdout",
     "output_type": "stream",
     "text": [
      "<class 'pandas.core.frame.DataFrame'>\n",
      "RangeIndex: 2426 entries, 0 to 2425\n",
      "Data columns (total 26 columns):\n",
      " #   Column                  Non-Null Count  Dtype  \n",
      "---  ------                  --------------  -----  \n",
      " 0   ResumeText              2426 non-null   object \n",
      " 1   cleanText               2426 non-null   object \n",
      " 2   category                2426 non-null   object \n",
      " 3   Gender_Male             2426 non-null   float64\n",
      " 4   ACCOUNTANT              2426 non-null   float64\n",
      " 5   ADVOCATE                2426 non-null   float64\n",
      " 6   AGRICULTURE             2426 non-null   float64\n",
      " 7   APPAREL                 2426 non-null   float64\n",
      " 8   ARTS                    2426 non-null   float64\n",
      " 9   AVIATION                2426 non-null   float64\n",
      " 10  BANKING                 2426 non-null   float64\n",
      " 11  BUSINESS-DEVELOPMENT    2426 non-null   float64\n",
      " 12  CHEF                    2426 non-null   float64\n",
      " 13  CONSTRUCTION            2426 non-null   float64\n",
      " 14  CONSULTANT              2426 non-null   float64\n",
      " 15  DESIGNER                2426 non-null   float64\n",
      " 16  DIGITAL-MEDIA           2426 non-null   float64\n",
      " 17  ENGINEERING             2426 non-null   float64\n",
      " 18  FINANCE                 2426 non-null   float64\n",
      " 19  FITNESS                 2426 non-null   float64\n",
      " 20  HEALTHCARE              2426 non-null   float64\n",
      " 21  HR                      2426 non-null   float64\n",
      " 22  INFORMATION-TECHNOLOGY  2426 non-null   float64\n",
      " 23  PUBLIC-RELATIONS        2426 non-null   float64\n",
      " 24  SALES                   2426 non-null   float64\n",
      " 25  TEACHER                 2426 non-null   float64\n",
      "dtypes: float64(23), object(3)\n",
      "memory usage: 492.9+ KB\n"
     ]
    }
   ],
   "source": [
    "result_df.info()"
   ]
  },
  {
   "cell_type": "code",
   "execution_count": 464,
   "id": "d0c71f54-416d-423b-b85f-6481da220384",
   "metadata": {},
   "outputs": [
    {
     "data": {
      "text/html": [
       "<div>\n",
       "<style scoped>\n",
       "    .dataframe tbody tr th:only-of-type {\n",
       "        vertical-align: middle;\n",
       "    }\n",
       "\n",
       "    .dataframe tbody tr th {\n",
       "        vertical-align: top;\n",
       "    }\n",
       "\n",
       "    .dataframe thead th {\n",
       "        text-align: right;\n",
       "    }\n",
       "</style>\n",
       "<table border=\"1\" class=\"dataframe\">\n",
       "  <thead>\n",
       "    <tr style=\"text-align: right;\">\n",
       "      <th></th>\n",
       "      <th>category</th>\n",
       "      <th>Gender_Male</th>\n",
       "      <th>ACCOUNTANT</th>\n",
       "      <th>ADVOCATE</th>\n",
       "      <th>AGRICULTURE</th>\n",
       "      <th>APPAREL</th>\n",
       "      <th>ARTS</th>\n",
       "      <th>AVIATION</th>\n",
       "      <th>BANKING</th>\n",
       "      <th>BUSINESS-DEVELOPMENT</th>\n",
       "      <th>...</th>\n",
       "      <th>DIGITAL-MEDIA</th>\n",
       "      <th>ENGINEERING</th>\n",
       "      <th>FINANCE</th>\n",
       "      <th>FITNESS</th>\n",
       "      <th>HEALTHCARE</th>\n",
       "      <th>HR</th>\n",
       "      <th>INFORMATION-TECHNOLOGY</th>\n",
       "      <th>PUBLIC-RELATIONS</th>\n",
       "      <th>SALES</th>\n",
       "      <th>TEACHER</th>\n",
       "    </tr>\n",
       "  </thead>\n",
       "  <tbody>\n",
       "    <tr>\n",
       "      <th>0</th>\n",
       "      <td>ACCOUNTANT</td>\n",
       "      <td>1.0</td>\n",
       "      <td>0.367191</td>\n",
       "      <td>0.159090</td>\n",
       "      <td>0.126796</td>\n",
       "      <td>0.077386</td>\n",
       "      <td>0.044751</td>\n",
       "      <td>0.075339</td>\n",
       "      <td>0.080641</td>\n",
       "      <td>0.124356</td>\n",
       "      <td>...</td>\n",
       "      <td>0.038490</td>\n",
       "      <td>0.113420</td>\n",
       "      <td>0.358637</td>\n",
       "      <td>0.052826</td>\n",
       "      <td>0.054857</td>\n",
       "      <td>0.143595</td>\n",
       "      <td>0.138978</td>\n",
       "      <td>0.098829</td>\n",
       "      <td>0.101056</td>\n",
       "      <td>0.121479</td>\n",
       "    </tr>\n",
       "    <tr>\n",
       "      <th>1</th>\n",
       "      <td>ACCOUNTANT</td>\n",
       "      <td>1.0</td>\n",
       "      <td>0.332098</td>\n",
       "      <td>0.107284</td>\n",
       "      <td>0.087919</td>\n",
       "      <td>0.065034</td>\n",
       "      <td>0.035684</td>\n",
       "      <td>0.038768</td>\n",
       "      <td>0.115646</td>\n",
       "      <td>0.200860</td>\n",
       "      <td>...</td>\n",
       "      <td>0.033048</td>\n",
       "      <td>0.080275</td>\n",
       "      <td>0.366193</td>\n",
       "      <td>0.035228</td>\n",
       "      <td>0.033874</td>\n",
       "      <td>0.043389</td>\n",
       "      <td>0.106536</td>\n",
       "      <td>0.076702</td>\n",
       "      <td>0.179613</td>\n",
       "      <td>0.073416</td>\n",
       "    </tr>\n",
       "    <tr>\n",
       "      <th>2</th>\n",
       "      <td>ACCOUNTANT</td>\n",
       "      <td>0.0</td>\n",
       "      <td>0.152652</td>\n",
       "      <td>0.099753</td>\n",
       "      <td>0.028095</td>\n",
       "      <td>0.035142</td>\n",
       "      <td>0.022870</td>\n",
       "      <td>0.023178</td>\n",
       "      <td>0.169406</td>\n",
       "      <td>0.130659</td>\n",
       "      <td>...</td>\n",
       "      <td>0.018776</td>\n",
       "      <td>0.071713</td>\n",
       "      <td>0.135129</td>\n",
       "      <td>0.032164</td>\n",
       "      <td>0.065515</td>\n",
       "      <td>0.041380</td>\n",
       "      <td>0.104702</td>\n",
       "      <td>0.070230</td>\n",
       "      <td>0.168573</td>\n",
       "      <td>0.052803</td>\n",
       "    </tr>\n",
       "    <tr>\n",
       "      <th>3</th>\n",
       "      <td>ACCOUNTANT</td>\n",
       "      <td>0.0</td>\n",
       "      <td>0.323020</td>\n",
       "      <td>0.102498</td>\n",
       "      <td>0.027728</td>\n",
       "      <td>0.061147</td>\n",
       "      <td>0.045103</td>\n",
       "      <td>0.094261</td>\n",
       "      <td>0.141295</td>\n",
       "      <td>0.135330</td>\n",
       "      <td>...</td>\n",
       "      <td>0.027973</td>\n",
       "      <td>0.059533</td>\n",
       "      <td>0.324054</td>\n",
       "      <td>0.053802</td>\n",
       "      <td>0.018356</td>\n",
       "      <td>0.079859</td>\n",
       "      <td>0.104002</td>\n",
       "      <td>0.082970</td>\n",
       "      <td>0.159596</td>\n",
       "      <td>0.131249</td>\n",
       "    </tr>\n",
       "    <tr>\n",
       "      <th>4</th>\n",
       "      <td>ACCOUNTANT</td>\n",
       "      <td>0.0</td>\n",
       "      <td>0.257616</td>\n",
       "      <td>0.095625</td>\n",
       "      <td>0.061164</td>\n",
       "      <td>0.031256</td>\n",
       "      <td>0.030981</td>\n",
       "      <td>0.032045</td>\n",
       "      <td>0.106382</td>\n",
       "      <td>0.084383</td>\n",
       "      <td>...</td>\n",
       "      <td>0.041765</td>\n",
       "      <td>0.036468</td>\n",
       "      <td>0.216486</td>\n",
       "      <td>0.027416</td>\n",
       "      <td>0.028230</td>\n",
       "      <td>0.041927</td>\n",
       "      <td>0.101060</td>\n",
       "      <td>0.086502</td>\n",
       "      <td>0.071646</td>\n",
       "      <td>0.079350</td>\n",
       "    </tr>\n",
       "  </tbody>\n",
       "</table>\n",
       "<p>5 rows × 24 columns</p>\n",
       "</div>"
      ],
      "text/plain": [
       "     category  Gender_Male  ACCOUNTANT  ADVOCATE  AGRICULTURE   APPAREL  \\\n",
       "0  ACCOUNTANT          1.0    0.367191  0.159090     0.126796  0.077386   \n",
       "1  ACCOUNTANT          1.0    0.332098  0.107284     0.087919  0.065034   \n",
       "2  ACCOUNTANT          0.0    0.152652  0.099753     0.028095  0.035142   \n",
       "3  ACCOUNTANT          0.0    0.323020  0.102498     0.027728  0.061147   \n",
       "4  ACCOUNTANT          0.0    0.257616  0.095625     0.061164  0.031256   \n",
       "\n",
       "       ARTS  AVIATION   BANKING  BUSINESS-DEVELOPMENT  ...  DIGITAL-MEDIA  \\\n",
       "0  0.044751  0.075339  0.080641              0.124356  ...       0.038490   \n",
       "1  0.035684  0.038768  0.115646              0.200860  ...       0.033048   \n",
       "2  0.022870  0.023178  0.169406              0.130659  ...       0.018776   \n",
       "3  0.045103  0.094261  0.141295              0.135330  ...       0.027973   \n",
       "4  0.030981  0.032045  0.106382              0.084383  ...       0.041765   \n",
       "\n",
       "   ENGINEERING   FINANCE   FITNESS  HEALTHCARE        HR  \\\n",
       "0     0.113420  0.358637  0.052826    0.054857  0.143595   \n",
       "1     0.080275  0.366193  0.035228    0.033874  0.043389   \n",
       "2     0.071713  0.135129  0.032164    0.065515  0.041380   \n",
       "3     0.059533  0.324054  0.053802    0.018356  0.079859   \n",
       "4     0.036468  0.216486  0.027416    0.028230  0.041927   \n",
       "\n",
       "   INFORMATION-TECHNOLOGY  PUBLIC-RELATIONS     SALES   TEACHER  \n",
       "0                0.138978          0.098829  0.101056  0.121479  \n",
       "1                0.106536          0.076702  0.179613  0.073416  \n",
       "2                0.104702          0.070230  0.168573  0.052803  \n",
       "3                0.104002          0.082970  0.159596  0.131249  \n",
       "4                0.101060          0.086502  0.071646  0.079350  \n",
       "\n",
       "[5 rows x 24 columns]"
      ]
     },
     "execution_count": 464,
     "metadata": {},
     "output_type": "execute_result"
    }
   ],
   "source": [
    "result_df = result_df.drop(columns = ['ResumeText', 'cleanText'])\n",
    "result_df.head()"
   ]
  },
  {
   "cell_type": "markdown",
   "id": "a337ff3d-2770-4c0e-80fc-bf2b42a50e87",
   "metadata": {},
   "source": [
    "#### 4.2 Evaluating cosine-similarity performance using a classifier \n",
    "\n",
    "We classify the resumes to categories to check the accuracy of similarities and job categories. I used two classifiers i.e RandomForest and KNN to verify the accuracy."
   ]
  },
  {
   "cell_type": "code",
   "execution_count": 177,
   "id": "15f2d7dd-3d75-47e6-8e68-3d22c090788a",
   "metadata": {},
   "outputs": [],
   "source": [
    "from sklearn.model_selection import train_test_split\n",
    "\n",
    "df_train, df_test = train_test_split(result_df,random_state=42, test_size=0.3, shuffle=True)"
   ]
  },
  {
   "cell_type": "code",
   "execution_count": 179,
   "id": "8279317d-be07-4cbf-9253-8e5f4a9964cc",
   "metadata": {},
   "outputs": [],
   "source": [
    "X_train = df_train.drop(columns = ['category'])\n",
    "Y_train = df_train['category']\n",
    "\n",
    "X_test = df_test.drop(columns = ['category'])\n",
    "Y_test = df_test['category']"
   ]
  },
  {
   "cell_type": "markdown",
   "id": "ca4a40ca-c775-431a-b1f4-a71855723a23",
   "metadata": {},
   "source": [
    "##### 4.2.1 Using RandomForest Classifier"
   ]
  },
  {
   "cell_type": "code",
   "execution_count": 181,
   "id": "467d87f5-9800-481c-94f7-fd8d988516c7",
   "metadata": {},
   "outputs": [
    {
     "name": "stdout",
     "output_type": "stream",
     "text": [
      "                        precision    recall  f1-score   support\n",
      "\n",
      "            ACCOUNTANT       0.61      0.70      0.65        33\n",
      "              ADVOCATE       0.28      0.32      0.30        41\n",
      "           AGRICULTURE       0.57      0.16      0.25        25\n",
      "               APPAREL       0.33      0.17      0.23        29\n",
      "                  ARTS       0.45      0.14      0.21        37\n",
      "              AVIATION       0.40      0.42      0.41        40\n",
      "               BANKING       0.54      0.59      0.57        32\n",
      "  BUSINESS-DEVELOPMENT       0.47      0.57      0.51        37\n",
      "                  CHEF       0.87      0.76      0.81        34\n",
      "          CONSTRUCTION       0.67      0.87      0.75        30\n",
      "            CONSULTANT       0.15      0.06      0.09        33\n",
      "              DESIGNER       0.87      0.73      0.79        37\n",
      "         DIGITAL-MEDIA       0.47      0.72      0.57        25\n",
      "           ENGINEERING       0.65      0.56      0.60        39\n",
      "               FINANCE       0.42      0.45      0.44        31\n",
      "               FITNESS       0.64      0.64      0.64        28\n",
      "            HEALTHCARE       0.57      0.36      0.44        45\n",
      "                    HR       0.64      0.88      0.74        24\n",
      "INFORMATION-TECHNOLOGY       0.64      0.74      0.68        38\n",
      "      PUBLIC-RELATIONS       0.76      0.78      0.77        32\n",
      "                 SALES       0.35      0.65      0.45        34\n",
      "               TEACHER       0.40      0.67      0.50        24\n",
      "\n",
      "              accuracy                           0.53       728\n",
      "             macro avg       0.53      0.54      0.52       728\n",
      "          weighted avg       0.53      0.53      0.51       728\n",
      "\n",
      "                        precision    recall  f1-score   support\n",
      "\n",
      "            ACCOUNTANT       1.00      1.00      1.00        85\n",
      "              ADVOCATE       1.00      1.00      1.00        77\n",
      "           AGRICULTURE       1.00      1.00      1.00        38\n",
      "               APPAREL       1.00      1.00      1.00        68\n",
      "                  ARTS       1.00      1.00      1.00        66\n",
      "              AVIATION       1.00      1.00      1.00        77\n",
      "               BANKING       1.00      1.00      1.00        83\n",
      "  BUSINESS-DEVELOPMENT       1.00      1.00      1.00        83\n",
      "                  CHEF       1.00      1.00      1.00        84\n",
      "          CONSTRUCTION       1.00      1.00      1.00        82\n",
      "            CONSULTANT       1.00      1.00      1.00        82\n",
      "              DESIGNER       1.00      1.00      1.00        70\n",
      "         DIGITAL-MEDIA       1.00      1.00      1.00        71\n",
      "           ENGINEERING       1.00      1.00      1.00        79\n",
      "               FINANCE       1.00      1.00      1.00        87\n",
      "               FITNESS       1.00      1.00      1.00        89\n",
      "            HEALTHCARE       1.00      1.00      1.00        70\n",
      "                    HR       1.00      1.00      1.00        86\n",
      "INFORMATION-TECHNOLOGY       1.00      1.00      1.00        82\n",
      "      PUBLIC-RELATIONS       1.00      1.00      1.00        79\n",
      "                 SALES       1.00      1.00      1.00        82\n",
      "               TEACHER       1.00      1.00      1.00        78\n",
      "\n",
      "              accuracy                           1.00      1698\n",
      "             macro avg       1.00      1.00      1.00      1698\n",
      "          weighted avg       1.00      1.00      1.00      1698\n",
      "\n"
     ]
    }
   ],
   "source": [
    "from sklearn.ensemble import RandomForestClassifier\n",
    "from sklearn.metrics import classification_report\n",
    "\n",
    "clf2 = RandomForestClassifier()\n",
    "clf2.fit(X_train, Y_train)\n",
    "Y_test_pred2 = clf2.predict(X_test)\n",
    "Y_train_pred2 = clf2.predict(X_train)\n",
    "print(classification_report(Y_test, Y_test_pred2))\n",
    "print(classification_report(Y_train, Y_train_pred2))"
   ]
  },
  {
   "cell_type": "markdown",
   "id": "5d87f368-3697-4fec-93f7-d6290e0f1eff",
   "metadata": {},
   "source": [
    "##### Note: We can see that the prediction with RandomForest Classifier is 53% accurate. Where as train data classification is 100% accurate."
   ]
  },
  {
   "cell_type": "markdown",
   "id": "78559189-5ed1-42f8-a89a-77e7dd0ae543",
   "metadata": {},
   "source": [
    "##### 4.2.2 Using KNN classifier"
   ]
  },
  {
   "cell_type": "code",
   "execution_count": 183,
   "id": "a62ae6bd-058e-4ce5-be70-bdd687630690",
   "metadata": {},
   "outputs": [],
   "source": [
    "from sklearn.multiclass import OneVsRestClassifier\n",
    "from sklearn.neighbors import KNeighborsClassifier\n",
    "\n",
    "clf = KNeighborsClassifier()\n",
    "clf.fit(X_train, Y_train)\n",
    "Y_test_pred = clf.predict(X_test)\n",
    "Y_train_pred = clf.predict(X_train)"
   ]
  },
  {
   "cell_type": "code",
   "execution_count": 185,
   "id": "cc68f388-7e4f-44d2-9254-90a6b583e033",
   "metadata": {},
   "outputs": [
    {
     "name": "stdout",
     "output_type": "stream",
     "text": [
      "Classification report for test data\n",
      "                        precision    recall  f1-score   support\n",
      "\n",
      "            ACCOUNTANT       0.54      0.76      0.63        33\n",
      "              ADVOCATE       0.26      0.46      0.33        41\n",
      "           AGRICULTURE       0.13      0.12      0.12        25\n",
      "               APPAREL       0.19      0.28      0.22        29\n",
      "                  ARTS       0.30      0.16      0.21        37\n",
      "              AVIATION       0.31      0.40      0.35        40\n",
      "               BANKING       0.34      0.38      0.36        32\n",
      "  BUSINESS-DEVELOPMENT       0.51      0.59      0.55        37\n",
      "                  CHEF       0.84      0.79      0.82        34\n",
      "          CONSTRUCTION       0.79      0.73      0.76        30\n",
      "            CONSULTANT       0.08      0.03      0.04        33\n",
      "              DESIGNER       0.88      0.57      0.69        37\n",
      "         DIGITAL-MEDIA       0.58      0.60      0.59        25\n",
      "           ENGINEERING       0.52      0.44      0.47        39\n",
      "               FINANCE       0.41      0.39      0.40        31\n",
      "               FITNESS       0.60      0.43      0.50        28\n",
      "            HEALTHCARE       0.32      0.18      0.23        45\n",
      "                    HR       0.62      0.67      0.64        24\n",
      "INFORMATION-TECHNOLOGY       0.62      0.63      0.62        38\n",
      "      PUBLIC-RELATIONS       0.79      0.84      0.82        32\n",
      "                 SALES       0.40      0.41      0.41        34\n",
      "               TEACHER       0.35      0.46      0.40        24\n",
      "\n",
      "              accuracy                           0.46       728\n",
      "             macro avg       0.47      0.47      0.46       728\n",
      "          weighted avg       0.47      0.46      0.46       728\n",
      "\n"
     ]
    }
   ],
   "source": [
    "print(\"Classification report for test data\")\n",
    "print(classification_report(Y_test, Y_test_pred))"
   ]
  },
  {
   "cell_type": "code",
   "execution_count": 187,
   "id": "d94eea7d-7105-4f48-a00e-890501da76e9",
   "metadata": {},
   "outputs": [
    {
     "name": "stdout",
     "output_type": "stream",
     "text": [
      "Classification report for train data\n",
      "                        precision    recall  f1-score   support\n",
      "\n",
      "            ACCOUNTANT       0.61      0.89      0.72        85\n",
      "              ADVOCATE       0.35      0.64      0.45        77\n",
      "           AGRICULTURE       0.34      0.55      0.42        38\n",
      "               APPAREL       0.51      0.63      0.56        68\n",
      "                  ARTS       0.35      0.29      0.31        66\n",
      "              AVIATION       0.67      0.73      0.70        77\n",
      "               BANKING       0.63      0.51      0.56        83\n",
      "  BUSINESS-DEVELOPMENT       0.58      0.66      0.62        83\n",
      "                  CHEF       0.83      0.75      0.79        84\n",
      "          CONSTRUCTION       0.82      0.82      0.82        82\n",
      "            CONSULTANT       0.44      0.27      0.33        82\n",
      "              DESIGNER       0.85      0.64      0.73        70\n",
      "         DIGITAL-MEDIA       0.67      0.63      0.65        71\n",
      "           ENGINEERING       0.67      0.67      0.67        79\n",
      "               FINANCE       0.71      0.48      0.58        87\n",
      "               FITNESS       0.90      0.67      0.77        89\n",
      "            HEALTHCARE       0.59      0.37      0.46        70\n",
      "                    HR       0.79      0.79      0.79        86\n",
      "INFORMATION-TECHNOLOGY       0.64      0.76      0.69        82\n",
      "      PUBLIC-RELATIONS       0.78      0.59      0.68        79\n",
      "                 SALES       0.61      0.66      0.64        82\n",
      "               TEACHER       0.65      0.64      0.65        78\n",
      "\n",
      "              accuracy                           0.63      1698\n",
      "             macro avg       0.64      0.62      0.62      1698\n",
      "          weighted avg       0.65      0.63      0.63      1698\n",
      "\n"
     ]
    }
   ],
   "source": [
    "print(\"Classification report for train data\")\n",
    "print(classification_report(Y_train, Y_train_pred))"
   ]
  },
  {
   "cell_type": "markdown",
   "id": "1b2cc2ac-87a8-47dc-bc08-11df243243d9",
   "metadata": {},
   "source": [
    "##### Note : Here we can see that the test data classification is 46% accurate and train data classification is 63% accurate. "
   ]
  },
  {
   "cell_type": "markdown",
   "id": "e429f1f3-f4b0-4392-9d7a-c00f23a074f6",
   "metadata": {},
   "source": [
    "##### Hence I am going ahead with RandomForest Classifier since it has better prediction among the two and the training is perfectly done. "
   ]
  },
  {
   "cell_type": "markdown",
   "id": "ca76dd56-3627-4ca0-bbb4-e2a82962636e",
   "metadata": {},
   "source": [
    "#### 4.3 - Finding the gender bias in classification"
   ]
  },
  {
   "cell_type": "code",
   "execution_count": 190,
   "id": "1b706f5e-f97a-4a18-a6b0-563fc5f635f9",
   "metadata": {},
   "outputs": [],
   "source": [
    "from aif360.datasets import StandardDataset\n",
    "from aif360.metrics import BinaryLabelDatasetMetric"
   ]
  },
  {
   "cell_type": "code",
   "execution_count": 192,
   "id": "1c7b8878-cc72-465c-a864-0779ac6a54de",
   "metadata": {},
   "outputs": [],
   "source": [
    "privileged_groups = [{'Gender_Male': 1}]\n",
    "unprivileged_groups = [{'Gender_Male': 0}]"
   ]
  },
  {
   "cell_type": "code",
   "execution_count": 228,
   "id": "caf68053-5679-4b6c-94c2-fa003c008718",
   "metadata": {},
   "outputs": [
    {
     "name": "stdout",
     "output_type": "stream",
     "text": [
      "Bias metrics for ACCOUNTANT Class \n",
      "SPD  -0.01025381950612897\n",
      "DI  0.8145396124108847\n"
     ]
    }
   ],
   "source": [
    "dataset_train_ACCOUNTANT = StandardDataset(df_train, \n",
    "                          label_name='category', \n",
    "                          favorable_classes=['ACCOUNTANT'], \n",
    "                          protected_attribute_names=['Gender_Male'], \n",
    "                          privileged_classes=[[1]])\n",
    "\n",
    "metric_train_ACCOUNTANT = BinaryLabelDatasetMetric(dataset_train_ACCOUNTANT, \n",
    "                                             unprivileged_groups=unprivileged_groups,\n",
    "                                             privileged_groups=privileged_groups)\n",
    "\n",
    "print(\"Bias metrics for ACCOUNTANT Class \")\n",
    "print(\"SPD \", metric_train_ACCOUNTANT.statistical_parity_difference())\n",
    "print(\"DI \", metric_train_ACCOUNTANT.disparate_impact())"
   ]
  },
  {
   "cell_type": "markdown",
   "id": "2b75c68f-ee19-48f0-a67d-ced5c3b1f170",
   "metadata": {},
   "source": [
    "##### Note: SPD < 0 and DI < 1, we can say that there is a slight bias towards the privilaged group i.e gender = Male. But since DI passes the 80% rule It can be considered as non discriminating in the hiring process.  "
   ]
  },
  {
   "cell_type": "markdown",
   "id": "9e7d0c73-62b5-4a38-8766-0f2bf721822d",
   "metadata": {},
   "source": [
    "#### 4.4 - Improving Model and Bias Performance\n",
    "\n",
    "##### 4.4.1 Using Re-weighing pre-processing technique\n",
    "\n",
    "Here we are using 'Accountant' taget class"
   ]
  },
  {
   "cell_type": "code",
   "execution_count": 232,
   "id": "8d883a21-da63-4095-a5b1-0c8b6d538bc7",
   "metadata": {},
   "outputs": [],
   "source": [
    "from aif360.algorithms.preprocessing import Reweighing"
   ]
  },
  {
   "cell_type": "code",
   "execution_count": 234,
   "id": "3f4bf8a0-7b85-4b6e-a5e4-22a3b703bba2",
   "metadata": {},
   "outputs": [],
   "source": [
    "dataset_train_mitigation = StandardDataset(df_train, \n",
    "                          label_name='category', \n",
    "                          favorable_classes=['ACCOUNTANT'], \n",
    "                          protected_attribute_names=['Gender_Male'], \n",
    "                          privileged_classes=[[1]])\n",
    "\n",
    "privileged_groups = [{'Gender_Male': 1}]\n",
    "unprivileged_groups = [{'Gender_Male': 0}]\n",
    "\n",
    "RW = Reweighing(unprivileged_groups=unprivileged_groups,\n",
    "                privileged_groups=privileged_groups)\n",
    "dataset_transf_train = RW.fit_transform(dataset_train_mitigation)\n",
    "\n",
    "tranf_train_df = dataset_transf_train.convert_to_dataframe()[0]"
   ]
  },
  {
   "cell_type": "code",
   "execution_count": 236,
   "id": "4384edf9-fbbf-45a5-bc9c-6e33c4e1a14f",
   "metadata": {},
   "outputs": [
    {
     "data": {
      "text/plain": [
       "category\n",
       "0.0    1613\n",
       "1.0      85\n",
       "Name: count, dtype: int64"
      ]
     },
     "execution_count": 236,
     "metadata": {},
     "output_type": "execute_result"
    }
   ],
   "source": [
    "tranf_train_df['category'].value_counts()"
   ]
  },
  {
   "cell_type": "markdown",
   "id": "d43b1840-a534-4acf-962a-76a311e76440",
   "metadata": {},
   "source": [
    "##### 4.4.2 Remodeling after Re-weighing the train dataset"
   ]
  },
  {
   "cell_type": "code",
   "execution_count": 498,
   "id": "e6b6e2d1-ba44-4222-9307-53abc7eb7736",
   "metadata": {},
   "outputs": [
    {
     "name": "stdout",
     "output_type": "stream",
     "text": [
      "              precision    recall  f1-score   support\n",
      "\n",
      "         0.0     0.9719    0.9957    0.9837       695\n",
      "         1.0     0.8125    0.3939    0.5306        33\n",
      "\n",
      "    accuracy                         0.9684       728\n",
      "   macro avg     0.8922    0.6948    0.7571       728\n",
      "weighted avg     0.9647    0.9684    0.9631       728\n",
      "\n"
     ]
    }
   ],
   "source": [
    "X_train_mitigation = tranf_train_df.drop( columns = ['category'])\n",
    "Y_train_mitigation = tranf_train_df['category']\n",
    "\n",
    "df_test2 = df_test.copy()\n",
    "df_test2.loc[df_test2['category'] == 'ACCOUNTANT', 'category2'] = 1\n",
    "df_test2.loc[df_test2['category'] != 'ACCOUNTANT', 'category2'] = 0\n",
    "\n",
    "X_test_mitigation = df_test2.drop( columns = ['category', 'category2'])\n",
    "Y_test_mitigation = df_test2['category2']\n",
    "\n",
    "clf_mitigation = RandomForestClassifier(random_state = 42)\n",
    "clf_mitigation = clf_mitigation.fit(X_train_mitigation, Y_train_mitigation)\n",
    "Y_pred_mitigation = clf_mitigation.predict(X_test_mitigation)\n",
    "\n",
    "print(classification_report(Y_test_mitigation, Y_pred_mitigation, digits=4))"
   ]
  },
  {
   "cell_type": "code",
   "execution_count": 499,
   "id": "933f8dc1-7463-416d-b66f-400842356ccb",
   "metadata": {},
   "outputs": [
    {
     "name": "stdout",
     "output_type": "stream",
     "text": [
      "              precision    recall  f1-score   support\n",
      "\n",
      "         0.0     1.0000    1.0000    1.0000      1613\n",
      "         1.0     1.0000    1.0000    1.0000        85\n",
      "\n",
      "    accuracy                         1.0000      1698\n",
      "   macro avg     1.0000    1.0000    1.0000      1698\n",
      "weighted avg     1.0000    1.0000    1.0000      1698\n",
      "\n"
     ]
    }
   ],
   "source": [
    "Y_train_pred_mitigation = clf_mitigation.predict(X_train_mitigation)\n",
    "print(classification_report(Y_train_mitigation, Y_train_pred_mitigation, digits=4))"
   ]
  },
  {
   "cell_type": "markdown",
   "id": "5ca27177-0a7d-4d96-87f1-b3873b940512",
   "metadata": {},
   "source": [
    "##### Note: we can see that the performance metrics has improved a lot for testing data after re-weighing "
   ]
  },
  {
   "cell_type": "markdown",
   "id": "2c993651-864d-4278-9772-7b55f5e297fd",
   "metadata": {},
   "source": [
    "##### 4.4.3 Calculating Bias metrics after Re-weighing"
   ]
  },
  {
   "cell_type": "code",
   "execution_count": 268,
   "id": "4e22dca9-a6be-4042-a14c-4a6fb4efd32c",
   "metadata": {},
   "outputs": [
    {
     "name": "stdout",
     "output_type": "stream",
     "text": [
      "Bias Metrics for testing dataset after using Reweighing Technique\n",
      "Bias metrics for ACCOUNTANT Class after re-weighing\n",
      "SPD  -0.01025381950612897\n",
      "DI  0.8145396124108847\n"
     ]
    }
   ],
   "source": [
    "dataset_test_after_mitigation = StandardDataset(df_test2, \n",
    "                          label_name='category', \n",
    "                          favorable_classes=['ACCOUNTANT'], \n",
    "                          protected_attribute_names=['Gender_Male'], \n",
    "                          privileged_classes=[[1]])\n",
    "\n",
    "print(\"Bias Metrics for testing dataset after using Reweighing Technique\")\n",
    "bias_Metrics_after_mitigation = BinaryLabelDatasetMetric(dataset_test_after_mitigation, \n",
    "                                             unprivileged_groups=unprivileged_groups,\n",
    "                                             privileged_groups=privileged_groups)\n",
    "\n",
    "print(\"Bias metrics for ACCOUNTANT Class after re-weighing\")\n",
    "print(\"SPD \", metric_train_ACCOUNTANT.statistical_parity_difference())\n",
    "print(\"DI \", metric_train_ACCOUNTANT.disparate_impact())"
   ]
  },
  {
   "cell_type": "markdown",
   "id": "77d27b2c-b936-4b2a-8868-65384e21caf0",
   "metadata": {},
   "source": [
    "##### Note: The bias metrics did not change for the best or worst. "
   ]
  },
  {
   "cell_type": "markdown",
   "id": "45b22ba3-b650-4b43-9808-d904a6cfdbb6",
   "metadata": {},
   "source": [
    "### Task 5 - Observations"
   ]
  },
  {
   "cell_type": "markdown",
   "id": "6ad7a280-384c-49a9-a4cd-024eec87315c",
   "metadata": {},
   "source": [
    "1. Resume Screening accuracy in the original Dataset is 67%. \n",
    "2. Resume Screening accuract in the Kaggle web scrapped data was initially 53% and then after re-weighing it improved to 97%. \n",
    "3. Biasness: We can see that there is a slight bias towards \"Male\" gender. But I think based on 80% rule, we don't consider this resume screening system as unwittingly biased system."
   ]
  },
  {
   "cell_type": "markdown",
   "id": "d70450ac-4f98-4504-82ed-dba899367d19",
   "metadata": {},
   "source": [
    "### Task 8 - What Can be better?\n",
    "\n",
    "1. I wanted to analyse the \"Original Dataset\" after performing re-weighing technique and see how it works. But since the data is below 20 samples, After reweighing the data, it has shown \"Nan\" error. This happened because the number of samples were really low.\n",
    "3. I wanted to Extract each entity of the resumes, like name, gender, email, work-experience, etc and train the model based on them, But I couldn't find a proper extracting tool which does it accurately. Hence I opted for including entire text.\n",
    "4. If we could extract the features like age, gender, ethinicity from the text, there would be more bias related features we could analysis.  "
   ]
  },
  {
   "cell_type": "code",
   "execution_count": null,
   "id": "199eda92-ec12-4932-850c-dbde46e066a9",
   "metadata": {},
   "outputs": [],
   "source": []
  }
 ],
 "metadata": {
  "kernelspec": {
   "display_name": "Python 3 (ipykernel)",
   "language": "python",
   "name": "python3"
  },
  "language_info": {
   "codemirror_mode": {
    "name": "ipython",
    "version": 3
   },
   "file_extension": ".py",
   "mimetype": "text/x-python",
   "name": "python",
   "nbconvert_exporter": "python",
   "pygments_lexer": "ipython3",
   "version": "3.12.4"
  },
  "varInspector": {
   "cols": {
    "lenName": 16,
    "lenType": 16,
    "lenVar": 40
   },
   "kernels_config": {
    "python": {
     "delete_cmd_postfix": "",
     "delete_cmd_prefix": "del ",
     "library": "var_list.py",
     "varRefreshCmd": "print(var_dic_list())"
    },
    "r": {
     "delete_cmd_postfix": ") ",
     "delete_cmd_prefix": "rm(",
     "library": "var_list.r",
     "varRefreshCmd": "cat(var_dic_list()) "
    }
   },
   "types_to_exclude": [
    "module",
    "function",
    "builtin_function_or_method",
    "instance",
    "_Feature"
   ],
   "window_display": false
  }
 },
 "nbformat": 4,
 "nbformat_minor": 5
}
